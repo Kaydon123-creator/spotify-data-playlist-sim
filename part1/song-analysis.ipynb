{
 "cells": [
  {
   "cell_type": "markdown",
   "metadata": {},
   "source": [
    "## Partie 1 : Traitement de données\n",
    "Notre objectif est de manipuler et de traiter le jeu de données (contenu dans le fichier `songs.csv`) des chansons les plus écoutées sur Spotify en 2024. Nos traitement serviront ensuite à entraîner un modèle simple de régression linéaire pour la prédiction du nombre total d'écoutes d'une chanson sur Spotify.\n",
    "\n",
    "### Somaire\n",
    "1. [Chargement du jeu de données](#1-chargement-du-jeu-de-données)\n",
    "2. [Exploration des données](#2-exploration-des-données)\n",
    "3. [Nettoyage des données](#3-nettoyage-des-données)\n",
    "4. [Extraction de données](#4-extraction-de-données)\n",
    "5. [Conversion de données](#5-conversion-des-données)\n",
    "6. [Visualisation de données](#6-visualisation-de-données)\n",
    "7. [Matrice de corrélation](#7-matrice-de-corrélation)\n",
    "8. [Entraînement d'un modèle de régression](#8-entraînement-dun-modèle-de-régression-linéaire)"
   ]
  },
  {
   "cell_type": "markdown",
   "metadata": {},
   "source": [
    "#### Installation et importation des librairies\n",
    "Avant de commencer, nous devons lancer la cellule ci-bas afin de s'assurer que nous avons accès aux  librairies nécessaires."
   ]
  },
  {
   "cell_type": "code",
   "execution_count": 20,
   "metadata": {},
   "outputs": [
    {
     "name": "stdout",
     "output_type": "stream",
     "text": [
      "Requirement already satisfied: pandas in /opt/anaconda3/lib/python3.12/site-packages (2.2.2)\n",
      "Requirement already satisfied: matplotlib in /opt/anaconda3/lib/python3.12/site-packages (3.8.4)\n",
      "Requirement already satisfied: plotly in /opt/anaconda3/lib/python3.12/site-packages (5.22.0)\n",
      "Requirement already satisfied: seaborn in /opt/anaconda3/lib/python3.12/site-packages (0.13.2)\n",
      "Requirement already satisfied: scikit-learn in /opt/anaconda3/lib/python3.12/site-packages (1.4.2)\n",
      "Requirement already satisfied: numpy>=1.26.0 in /opt/anaconda3/lib/python3.12/site-packages (from pandas) (1.26.4)\n",
      "Requirement already satisfied: python-dateutil>=2.8.2 in /opt/anaconda3/lib/python3.12/site-packages (from pandas) (2.9.0.post0)\n",
      "Requirement already satisfied: pytz>=2020.1 in /opt/anaconda3/lib/python3.12/site-packages (from pandas) (2024.1)\n",
      "Requirement already satisfied: tzdata>=2022.7 in /opt/anaconda3/lib/python3.12/site-packages (from pandas) (2023.3)\n",
      "Requirement already satisfied: contourpy>=1.0.1 in /opt/anaconda3/lib/python3.12/site-packages (from matplotlib) (1.2.0)\n",
      "Requirement already satisfied: cycler>=0.10 in /opt/anaconda3/lib/python3.12/site-packages (from matplotlib) (0.11.0)\n",
      "Requirement already satisfied: fonttools>=4.22.0 in /opt/anaconda3/lib/python3.12/site-packages (from matplotlib) (4.51.0)\n",
      "Requirement already satisfied: kiwisolver>=1.3.1 in /opt/anaconda3/lib/python3.12/site-packages (from matplotlib) (1.4.4)\n",
      "Requirement already satisfied: packaging>=20.0 in /opt/anaconda3/lib/python3.12/site-packages (from matplotlib) (23.2)\n",
      "Requirement already satisfied: pillow>=8 in /opt/anaconda3/lib/python3.12/site-packages (from matplotlib) (10.3.0)\n",
      "Requirement already satisfied: pyparsing>=2.3.1 in /opt/anaconda3/lib/python3.12/site-packages (from matplotlib) (3.0.9)\n",
      "Requirement already satisfied: tenacity>=6.2.0 in /opt/anaconda3/lib/python3.12/site-packages (from plotly) (8.2.2)\n",
      "Requirement already satisfied: scipy>=1.6.0 in /opt/anaconda3/lib/python3.12/site-packages (from scikit-learn) (1.13.1)\n",
      "Requirement already satisfied: joblib>=1.2.0 in /opt/anaconda3/lib/python3.12/site-packages (from scikit-learn) (1.4.2)\n",
      "Requirement already satisfied: threadpoolctl>=2.0.0 in /opt/anaconda3/lib/python3.12/site-packages (from scikit-learn) (2.2.0)\n",
      "Requirement already satisfied: six>=1.5 in /opt/anaconda3/lib/python3.12/site-packages (from python-dateutil>=2.8.2->pandas) (1.16.0)\n",
      "Note: you may need to restart the kernel to use updated packages.\n"
     ]
    }
   ],
   "source": [
    "%pip install pandas matplotlib plotly seaborn scikit-learn\n",
    "\n",
    "import math\n",
    "import numpy as np\n",
    "import pandas as pd\n",
    "import matplotlib.pyplot as plt\n",
    "import plotly.express as px\n",
    "import seaborn as sns\n",
    "from sklearn import linear_model"
   ]
  },
  {
   "cell_type": "markdown",
   "metadata": {},
   "source": [
    "#### 1. Chargement du jeu de données\n",
    "Chargez le jeu de données dans un [`DataFrame Pandas`](https://pandas.pydata.org/docs/reference/api/pandas.DataFrame.html#pandas.DataFrame), depuis le fichier CSV `songs.csv`.\n",
    "Utilisez la méthode `read_csv()`."
   ]
  },
  {
   "cell_type": "code",
   "execution_count": 21,
   "metadata": {},
   "outputs": [],
   "source": [
    "# TODO: Charger le jeu de données dans un objet DataFrame.\n",
    "data_frame= pd.read_csv(\"songs.csv\")"
   ]
  },
  {
   "cell_type": "code",
   "execution_count": 22,
   "metadata": {},
   "outputs": [
    {
     "data": {
      "text/html": [
       "<div>\n",
       "<style scoped>\n",
       "    .dataframe tbody tr th:only-of-type {\n",
       "        vertical-align: middle;\n",
       "    }\n",
       "\n",
       "    .dataframe tbody tr th {\n",
       "        vertical-align: top;\n",
       "    }\n",
       "\n",
       "    .dataframe thead th {\n",
       "        text-align: right;\n",
       "    }\n",
       "</style>\n",
       "<table border=\"1\" class=\"dataframe\">\n",
       "  <thead>\n",
       "    <tr style=\"text-align: right;\">\n",
       "      <th></th>\n",
       "      <th>Track</th>\n",
       "      <th>Album Name</th>\n",
       "      <th>Artist</th>\n",
       "      <th>Release Date</th>\n",
       "      <th>ISRC</th>\n",
       "      <th>All Time Rank</th>\n",
       "      <th>Track Score</th>\n",
       "      <th>Spotify Streams</th>\n",
       "      <th>Spotify Playlist Count</th>\n",
       "      <th>Spotify Playlist Reach</th>\n",
       "      <th>...</th>\n",
       "      <th>SiriusXM Spins</th>\n",
       "      <th>Deezer Playlist Count</th>\n",
       "      <th>Deezer Playlist Reach</th>\n",
       "      <th>Amazon Playlist Count</th>\n",
       "      <th>Pandora Streams</th>\n",
       "      <th>Pandora Track Stations</th>\n",
       "      <th>Soundcloud Streams</th>\n",
       "      <th>Shazam Counts</th>\n",
       "      <th>TIDAL Popularity</th>\n",
       "      <th>Explicit Track</th>\n",
       "    </tr>\n",
       "  </thead>\n",
       "  <tbody>\n",
       "    <tr>\n",
       "      <th>0</th>\n",
       "      <td>MILLION DOLLAR BABY</td>\n",
       "      <td>Million Dollar Baby - Single</td>\n",
       "      <td>Tommy Richman</td>\n",
       "      <td>4/26/2024</td>\n",
       "      <td>QM24S2402528</td>\n",
       "      <td>1</td>\n",
       "      <td>725.4</td>\n",
       "      <td>390,470,936</td>\n",
       "      <td>30,716</td>\n",
       "      <td>196,631,588</td>\n",
       "      <td>...</td>\n",
       "      <td>684</td>\n",
       "      <td>62.0</td>\n",
       "      <td>17,598,718</td>\n",
       "      <td>114.0</td>\n",
       "      <td>18,004,655</td>\n",
       "      <td>22,931</td>\n",
       "      <td>4,818,457</td>\n",
       "      <td>2,669,262</td>\n",
       "      <td>NaN</td>\n",
       "      <td>0</td>\n",
       "    </tr>\n",
       "    <tr>\n",
       "      <th>1</th>\n",
       "      <td>Not Like Us</td>\n",
       "      <td>Not Like Us</td>\n",
       "      <td>Kendrick Lamar</td>\n",
       "      <td>5/4/2024</td>\n",
       "      <td>USUG12400910</td>\n",
       "      <td>2</td>\n",
       "      <td>545.9</td>\n",
       "      <td>323,703,884</td>\n",
       "      <td>28,113</td>\n",
       "      <td>174,597,137</td>\n",
       "      <td>...</td>\n",
       "      <td>3</td>\n",
       "      <td>67.0</td>\n",
       "      <td>10,422,430</td>\n",
       "      <td>111.0</td>\n",
       "      <td>7,780,028</td>\n",
       "      <td>28,444</td>\n",
       "      <td>6,623,075</td>\n",
       "      <td>1,118,279</td>\n",
       "      <td>NaN</td>\n",
       "      <td>1</td>\n",
       "    </tr>\n",
       "    <tr>\n",
       "      <th>2</th>\n",
       "      <td>i like the way you kiss me</td>\n",
       "      <td>I like the way you kiss me</td>\n",
       "      <td>Artemas</td>\n",
       "      <td>3/19/2024</td>\n",
       "      <td>QZJ842400387</td>\n",
       "      <td>3</td>\n",
       "      <td>538.4</td>\n",
       "      <td>601,309,283</td>\n",
       "      <td>54,331</td>\n",
       "      <td>211,607,669</td>\n",
       "      <td>...</td>\n",
       "      <td>536</td>\n",
       "      <td>136.0</td>\n",
       "      <td>36,321,847</td>\n",
       "      <td>172.0</td>\n",
       "      <td>5,022,621</td>\n",
       "      <td>5,639</td>\n",
       "      <td>7,208,651</td>\n",
       "      <td>5,285,340</td>\n",
       "      <td>NaN</td>\n",
       "      <td>0</td>\n",
       "    </tr>\n",
       "    <tr>\n",
       "      <th>3</th>\n",
       "      <td>Flowers</td>\n",
       "      <td>Flowers - Single</td>\n",
       "      <td>Miley Cyrus</td>\n",
       "      <td>1/12/2023</td>\n",
       "      <td>USSM12209777</td>\n",
       "      <td>4</td>\n",
       "      <td>444.9</td>\n",
       "      <td>2,031,280,633</td>\n",
       "      <td>269,802</td>\n",
       "      <td>136,569,078</td>\n",
       "      <td>...</td>\n",
       "      <td>2,182</td>\n",
       "      <td>264.0</td>\n",
       "      <td>24,684,248</td>\n",
       "      <td>210.0</td>\n",
       "      <td>190,260,277</td>\n",
       "      <td>203,384</td>\n",
       "      <td>NaN</td>\n",
       "      <td>11,822,942</td>\n",
       "      <td>NaN</td>\n",
       "      <td>0</td>\n",
       "    </tr>\n",
       "    <tr>\n",
       "      <th>4</th>\n",
       "      <td>Houdini</td>\n",
       "      <td>Houdini</td>\n",
       "      <td>Eminem</td>\n",
       "      <td>5/31/2024</td>\n",
       "      <td>USUG12403398</td>\n",
       "      <td>5</td>\n",
       "      <td>423.3</td>\n",
       "      <td>107,034,922</td>\n",
       "      <td>7,223</td>\n",
       "      <td>151,469,874</td>\n",
       "      <td>...</td>\n",
       "      <td>1</td>\n",
       "      <td>82.0</td>\n",
       "      <td>17,660,624</td>\n",
       "      <td>105.0</td>\n",
       "      <td>4,493,884</td>\n",
       "      <td>7,006</td>\n",
       "      <td>207,179</td>\n",
       "      <td>457,017</td>\n",
       "      <td>NaN</td>\n",
       "      <td>1</td>\n",
       "    </tr>\n",
       "    <tr>\n",
       "      <th>5</th>\n",
       "      <td>Lovin On Me</td>\n",
       "      <td>Lovin On Me</td>\n",
       "      <td>Jack Harlow</td>\n",
       "      <td>11/10/2023</td>\n",
       "      <td>USAT22311371</td>\n",
       "      <td>6</td>\n",
       "      <td>410.1</td>\n",
       "      <td>670,665,438</td>\n",
       "      <td>105,892</td>\n",
       "      <td>175,421,034</td>\n",
       "      <td>...</td>\n",
       "      <td>4,654</td>\n",
       "      <td>86.0</td>\n",
       "      <td>17,167,254</td>\n",
       "      <td>152.0</td>\n",
       "      <td>138,529,362</td>\n",
       "      <td>50,982</td>\n",
       "      <td>9,438,601</td>\n",
       "      <td>4,517,131</td>\n",
       "      <td>NaN</td>\n",
       "      <td>1</td>\n",
       "    </tr>\n",
       "  </tbody>\n",
       "</table>\n",
       "<p>6 rows × 29 columns</p>\n",
       "</div>"
      ],
      "text/plain": [
       "                        Track                    Album Name          Artist  \\\n",
       "0         MILLION DOLLAR BABY  Million Dollar Baby - Single   Tommy Richman   \n",
       "1                 Not Like Us                   Not Like Us  Kendrick Lamar   \n",
       "2  i like the way you kiss me    I like the way you kiss me         Artemas   \n",
       "3                     Flowers              Flowers - Single     Miley Cyrus   \n",
       "4                     Houdini                       Houdini          Eminem   \n",
       "5                 Lovin On Me                   Lovin On Me     Jack Harlow   \n",
       "\n",
       "  Release Date          ISRC All Time Rank  Track Score Spotify Streams  \\\n",
       "0    4/26/2024  QM24S2402528             1        725.4     390,470,936   \n",
       "1     5/4/2024  USUG12400910             2        545.9     323,703,884   \n",
       "2    3/19/2024  QZJ842400387             3        538.4     601,309,283   \n",
       "3    1/12/2023  USSM12209777             4        444.9   2,031,280,633   \n",
       "4    5/31/2024  USUG12403398             5        423.3     107,034,922   \n",
       "5   11/10/2023  USAT22311371             6        410.1     670,665,438   \n",
       "\n",
       "  Spotify Playlist Count Spotify Playlist Reach  ...  SiriusXM Spins  \\\n",
       "0                 30,716            196,631,588  ...             684   \n",
       "1                 28,113            174,597,137  ...               3   \n",
       "2                 54,331            211,607,669  ...             536   \n",
       "3                269,802            136,569,078  ...           2,182   \n",
       "4                  7,223            151,469,874  ...               1   \n",
       "5                105,892            175,421,034  ...           4,654   \n",
       "\n",
       "  Deezer Playlist Count Deezer Playlist Reach Amazon Playlist Count  \\\n",
       "0                  62.0            17,598,718                 114.0   \n",
       "1                  67.0            10,422,430                 111.0   \n",
       "2                 136.0            36,321,847                 172.0   \n",
       "3                 264.0            24,684,248                 210.0   \n",
       "4                  82.0            17,660,624                 105.0   \n",
       "5                  86.0            17,167,254                 152.0   \n",
       "\n",
       "  Pandora Streams Pandora Track Stations Soundcloud Streams  Shazam Counts  \\\n",
       "0      18,004,655                 22,931          4,818,457      2,669,262   \n",
       "1       7,780,028                 28,444          6,623,075      1,118,279   \n",
       "2       5,022,621                  5,639          7,208,651      5,285,340   \n",
       "3     190,260,277                203,384                NaN     11,822,942   \n",
       "4       4,493,884                  7,006            207,179        457,017   \n",
       "5     138,529,362                 50,982          9,438,601      4,517,131   \n",
       "\n",
       "  TIDAL Popularity Explicit Track  \n",
       "0              NaN              0  \n",
       "1              NaN              1  \n",
       "2              NaN              0  \n",
       "3              NaN              0  \n",
       "4              NaN              1  \n",
       "5              NaN              1  \n",
       "\n",
       "[6 rows x 29 columns]"
      ]
     },
     "execution_count": 22,
     "metadata": {},
     "output_type": "execute_result"
    }
   ],
   "source": [
    "# TODO: Afficher les premières lignes du DataFrame pour comprendre la structure des données.\n",
    "data_frame.iloc[:6,:]"
   ]
  },
  {
   "cell_type": "markdown",
   "metadata": {},
   "source": [
    "#### 2. Exploration des données\n",
    "Affichez le nombre d'éléments (lignes) du jeu de données. Et, affichez les types de données de chaque colonne pour vérifier si nous avons besoin d'effectuer d'éventuelles nettoyage ou conversion."
   ]
  },
  {
   "cell_type": "code",
   "execution_count": 23,
   "metadata": {},
   "outputs": [
    {
     "name": "stdout",
     "output_type": "stream",
     "text": [
      "Le nombre de ligne du jeu de donnée est de 4600\n",
      "Track                          object\n",
      "Album Name                     object\n",
      "Artist                         object\n",
      "Release Date                   object\n",
      "ISRC                           object\n",
      "All Time Rank                  object\n",
      "Track Score                   float64\n",
      "Spotify Streams                object\n",
      "Spotify Playlist Count         object\n",
      "Spotify Playlist Reach         object\n",
      "Spotify Popularity            float64\n",
      "YouTube Views                  object\n",
      "YouTube Likes                  object\n",
      "TikTok Posts                   object\n",
      "TikTok Likes                   object\n",
      "TikTok Views                   object\n",
      "YouTube Playlist Reach         object\n",
      "Apple Music Playlist Count    float64\n",
      "AirPlay Spins                  object\n",
      "SiriusXM Spins                 object\n",
      "Deezer Playlist Count         float64\n",
      "Deezer Playlist Reach          object\n",
      "Amazon Playlist Count         float64\n",
      "Pandora Streams                object\n",
      "Pandora Track Stations         object\n",
      "Soundcloud Streams             object\n",
      "Shazam Counts                  object\n",
      "TIDAL Popularity              float64\n",
      "Explicit Track                  int64\n",
      "dtype: object\n"
     ]
    }
   ],
   "source": [
    "# TODO: Afficher le nombre d'éléments.\n",
    "print(f\"Le nombre de ligne du jeu de donnée est de {len(data_frame)}\")\n",
    "\n",
    "\n",
    "#TODO: Afficher les types de données de chaque colonne.\n",
    "print(data_frame.dtypes)\n"
   ]
  },
  {
   "cell_type": "markdown",
   "metadata": {},
   "source": [
    "#### 3. Nettoyage des données\n",
    "Pour procéder au nettoyage de nos données, nous allons :\n",
    "- Supprimer les colonnes inutiles ;\n",
    "- Analyser les valeurs manquantes ;\n",
    "- Gérer les valeurs manquantes.\n",
    "\n",
    "Les méthodes utiles pour cette section sont : `drop()`, `isna()`, `dropna()`."
   ]
  },
  {
   "cell_type": "code",
   "execution_count": 24,
   "metadata": {},
   "outputs": [],
   "source": [
    "# TODO: Utiliser drop() pour supprimer les colonnes \"ISRC\" et \"TIDAL Popularity\".\n",
    "data_frame.drop(columns=[\"ISRC\",\"TIDAL Popularity\"], inplace=True)\n"
   ]
  },
  {
   "cell_type": "code",
   "execution_count": 25,
   "metadata": {},
   "outputs": [
    {
     "data": {
      "text/plain": [
       "Track                            0\n",
       "Album Name                       0\n",
       "Artist                           5\n",
       "Release Date                     0\n",
       "All Time Rank                    0\n",
       "Track Score                      0\n",
       "Spotify Streams                113\n",
       "Spotify Playlist Count          70\n",
       "Spotify Playlist Reach          72\n",
       "Spotify Popularity             804\n",
       "YouTube Views                  308\n",
       "YouTube Likes                  315\n",
       "TikTok Posts                  1173\n",
       "TikTok Likes                   980\n",
       "TikTok Views                   981\n",
       "YouTube Playlist Reach        1009\n",
       "Apple Music Playlist Count     561\n",
       "AirPlay Spins                  498\n",
       "SiriusXM Spins                2123\n",
       "Deezer Playlist Count          921\n",
       "Deezer Playlist Reach          928\n",
       "Amazon Playlist Count         1055\n",
       "Pandora Streams               1106\n",
       "Pandora Track Stations        1268\n",
       "Soundcloud Streams            3333\n",
       "Shazam Counts                  577\n",
       "Explicit Track                   0\n",
       "dtype: int64"
      ]
     },
     "execution_count": 25,
     "metadata": {},
     "output_type": "execute_result"
    }
   ],
   "source": [
    "# TODO: Pour chaque colonne, afficher la somme des valeurs manquantes (utiliser isna()).\n",
    "data_frame.isna().sum()"
   ]
  },
  {
   "cell_type": "code",
   "execution_count": 26,
   "metadata": {},
   "outputs": [
    {
     "name": "stdout",
     "output_type": "stream",
     "text": [
      "(565, 27)\n"
     ]
    }
   ],
   "source": [
    "# TODO: Supprimer les lignes contenant des valeurs manquantes (utiliser dropna()).\n",
    "data_frame.dropna(axis = 'index', how = 'any', inplace=True)\n",
    "# TODO: Afficher la nouvelle dimension du DataFrame.\n",
    "print(data_frame.shape)"
   ]
  },
  {
   "cell_type": "markdown",
   "metadata": {},
   "source": [
    "#### 4. Extraction de données\n",
    "Nous souhaitons extraire l'année de sortie à partir de la date de sortie, et créer une nouvelle colonne \"Release Year\" basée sur cette donnée. Utilisez `to_datetime()` pour extraire l'année depuis la date et `apply()` pour appliquer l'extraction sur un ensemble de données."
   ]
  },
  {
   "cell_type": "code",
   "execution_count": 27,
   "metadata": {},
   "outputs": [
    {
     "name": "stderr",
     "output_type": "stream",
     "text": [
      "/var/folders/5f/s1pv6spn5hv0ymdd_6zy0dqr0000gn/T/ipykernel_9328/1164967596.py:2: UserWarning:\n",
      "\n",
      "Parsing dates in %m/%d/%Y format when dayfirst=True was specified. Pass `dayfirst=False` or specify a format to silence this warning.\n",
      "\n"
     ]
    }
   ],
   "source": [
    "# TODO: Créer une colonne \"Release Year\" contenant l'année de sortie pour chacune des chansons.\n",
    "data_frame[\"Release Year\" ]= data_frame[\"Release Date\"].apply(lambda x: pd.to_datetime(x,dayfirst=True)).dt.year\n"
   ]
  },
  {
   "cell_type": "markdown",
   "metadata": {},
   "source": [
    "#### 5. Conversion de données\n",
    "Lors de l'étape d'[exploration de données](#2-exploration-des-données), nous avons remarqué que certaines colonnes sont de type `object` alors qu'elles représentent des données numériques. Nous allons donc convertir ces colonnes en `float` (utilisez `apply()` pour appliquer la conversion sur un ensemble de données).\n",
    "\n",
    "Omettre de la conversion les colonnes : \"Track\", \"Album Name\", \"Artist\", \"Release Date\"."
   ]
  },
  {
   "cell_type": "code",
   "execution_count": 28,
   "metadata": {},
   "outputs": [
    {
     "name": "stdout",
     "output_type": "stream",
     "text": [
      "Index(['All Time Rank', 'Spotify Streams', 'Spotify Playlist Count',\n",
      "       'Spotify Playlist Reach', 'YouTube Views', 'YouTube Likes',\n",
      "       'TikTok Posts', 'TikTok Likes', 'TikTok Views',\n",
      "       'YouTube Playlist Reach', 'AirPlay Spins', 'SiriusXM Spins',\n",
      "       'Deezer Playlist Reach', 'Pandora Streams', 'Pandora Track Stations',\n",
      "       'Soundcloud Streams', 'Shazam Counts'],\n",
      "      dtype='object')\n"
     ]
    }
   ],
   "source": [
    "# TODO: Afficher les colonnes à convertir en 'float'.\n",
    "data_frame_float=data_frame.select_dtypes(include=[\"object\"]).iloc[ : , 4: ]\n",
    "\n",
    "print(data_frame_float.columns)\n",
    "\n",
    "# TODO: Convertir les données des colonnes en 'float'.\n",
    "for col in data_frame_float.columns:\n",
    "    data_frame[col]=data_frame[col].apply(lambda x: float(x.replace(\",\", \"\")))\n",
    "\n"
   ]
  },
  {
   "cell_type": "code",
   "execution_count": 29,
   "metadata": {},
   "outputs": [
    {
     "data": {
      "text/plain": [
       "Track                          object\n",
       "Album Name                     object\n",
       "Artist                         object\n",
       "Release Date                   object\n",
       "All Time Rank                 float64\n",
       "Track Score                   float64\n",
       "Spotify Streams               float64\n",
       "Spotify Playlist Count        float64\n",
       "Spotify Playlist Reach        float64\n",
       "Spotify Popularity            float64\n",
       "YouTube Views                 float64\n",
       "YouTube Likes                 float64\n",
       "TikTok Posts                  float64\n",
       "TikTok Likes                  float64\n",
       "TikTok Views                  float64\n",
       "YouTube Playlist Reach        float64\n",
       "Apple Music Playlist Count    float64\n",
       "AirPlay Spins                 float64\n",
       "SiriusXM Spins                float64\n",
       "Deezer Playlist Count         float64\n",
       "Deezer Playlist Reach         float64\n",
       "Amazon Playlist Count         float64\n",
       "Pandora Streams               float64\n",
       "Pandora Track Stations        float64\n",
       "Soundcloud Streams            float64\n",
       "Shazam Counts                 float64\n",
       "Explicit Track                  int64\n",
       "Release Year                    int32\n",
       "dtype: object"
      ]
     },
     "execution_count": 29,
     "metadata": {},
     "output_type": "execute_result"
    }
   ],
   "source": [
    "# TODO: Afficher les types de données de chaque colonne.\n",
    "data_frame.dtypes"
   ]
  },
  {
   "cell_type": "markdown",
   "metadata": {},
   "source": [
    "#### 6. Visualisation de données\n",
    "Nous aimerions visualiser nos données via :\n",
    "- un graphique en secteur avec la proportion du nombre d'écoutes Spotify en 2024 par année de sortie ;\n",
    "- un histogramme avec la proportion de chanson à contenu explicite par année de sortie ;\n",
    "- un diagramme à barres avec le top 10 des chansons les plus écoutées sur Spotify en 2024.\n",
    "\n",
    "Pour cela, utilisez les méthodes `pie()`, `histogram()` et `bar()` de Plotly Express (accessible via l'objet `px`)."
   ]
  },
  {
   "cell_type": "code",
   "execution_count": 30,
   "metadata": {},
   "outputs": [],
   "source": [
    "# TODO: Afficher un DataFrame contenant seulement les colonnes \"Release Year\", \"Spotify Streams\".\n",
    "data_release_streams=data_frame[[\"Release Year\",\"Spotify Streams\"]].groupby(\"Release Year\").sum().reset_index()\n",
    "\n",
    "data_release_streams"
   ]
  },
  {
   "cell_type": "code",
   "execution_count": 31,
   "metadata": {},
   "outputs": [
    {
     "data": {
      "application/vnd.plotly.v1+json": {
       "config": {
        "plotlyServerURL": "https://plot.ly"
       },
       "data": [
        {
         "domain": {
          "x": [
           0,
           1
          ],
          "y": [
           0,
           1
          ]
         },
         "hovertemplate": "Spotify Streams=%{value}<extra></extra>",
         "labels": [
          2021910364,
          1810649765,
          3843533100,
          3006681589,
          971172980,
          954807024,
          1194124781,
          858734232,
          3346960602,
          3001348890,
          2977481879,
          8461328038,
          10136137844,
          11842166706,
          13978197025,
          21498426350,
          24043199450,
          32597997321,
          45818929070,
          57791280443,
          29352183268,
          23057644816,
          50868819830,
          39401772092,
          3841776177
         ],
         "legendgroup": "",
         "name": "",
         "showlegend": true,
         "type": "pie",
         "values": [
          2021910364,
          1810649765,
          3843533100,
          3006681589,
          971172980,
          954807024,
          1194124781,
          858734232,
          3346960602,
          3001348890,
          2977481879,
          8461328038,
          10136137844,
          11842166706,
          13978197025,
          21498426350,
          24043199450,
          32597997321,
          45818929070,
          57791280443,
          29352183268,
          23057644816,
          50868819830,
          39401772092,
          3841776177
         ]
        }
       ],
       "layout": {
        "legend": {
         "tracegroupgap": 0
        },
        "template": {
         "data": {
          "bar": [
           {
            "error_x": {
             "color": "#2a3f5f"
            },
            "error_y": {
             "color": "#2a3f5f"
            },
            "marker": {
             "line": {
              "color": "#E5ECF6",
              "width": 0.5
             },
             "pattern": {
              "fillmode": "overlay",
              "size": 10,
              "solidity": 0.2
             }
            },
            "type": "bar"
           }
          ],
          "barpolar": [
           {
            "marker": {
             "line": {
              "color": "#E5ECF6",
              "width": 0.5
             },
             "pattern": {
              "fillmode": "overlay",
              "size": 10,
              "solidity": 0.2
             }
            },
            "type": "barpolar"
           }
          ],
          "carpet": [
           {
            "aaxis": {
             "endlinecolor": "#2a3f5f",
             "gridcolor": "white",
             "linecolor": "white",
             "minorgridcolor": "white",
             "startlinecolor": "#2a3f5f"
            },
            "baxis": {
             "endlinecolor": "#2a3f5f",
             "gridcolor": "white",
             "linecolor": "white",
             "minorgridcolor": "white",
             "startlinecolor": "#2a3f5f"
            },
            "type": "carpet"
           }
          ],
          "choropleth": [
           {
            "colorbar": {
             "outlinewidth": 0,
             "ticks": ""
            },
            "type": "choropleth"
           }
          ],
          "contour": [
           {
            "colorbar": {
             "outlinewidth": 0,
             "ticks": ""
            },
            "colorscale": [
             [
              0,
              "#0d0887"
             ],
             [
              0.1111111111111111,
              "#46039f"
             ],
             [
              0.2222222222222222,
              "#7201a8"
             ],
             [
              0.3333333333333333,
              "#9c179e"
             ],
             [
              0.4444444444444444,
              "#bd3786"
             ],
             [
              0.5555555555555556,
              "#d8576b"
             ],
             [
              0.6666666666666666,
              "#ed7953"
             ],
             [
              0.7777777777777778,
              "#fb9f3a"
             ],
             [
              0.8888888888888888,
              "#fdca26"
             ],
             [
              1,
              "#f0f921"
             ]
            ],
            "type": "contour"
           }
          ],
          "contourcarpet": [
           {
            "colorbar": {
             "outlinewidth": 0,
             "ticks": ""
            },
            "type": "contourcarpet"
           }
          ],
          "heatmap": [
           {
            "colorbar": {
             "outlinewidth": 0,
             "ticks": ""
            },
            "colorscale": [
             [
              0,
              "#0d0887"
             ],
             [
              0.1111111111111111,
              "#46039f"
             ],
             [
              0.2222222222222222,
              "#7201a8"
             ],
             [
              0.3333333333333333,
              "#9c179e"
             ],
             [
              0.4444444444444444,
              "#bd3786"
             ],
             [
              0.5555555555555556,
              "#d8576b"
             ],
             [
              0.6666666666666666,
              "#ed7953"
             ],
             [
              0.7777777777777778,
              "#fb9f3a"
             ],
             [
              0.8888888888888888,
              "#fdca26"
             ],
             [
              1,
              "#f0f921"
             ]
            ],
            "type": "heatmap"
           }
          ],
          "heatmapgl": [
           {
            "colorbar": {
             "outlinewidth": 0,
             "ticks": ""
            },
            "colorscale": [
             [
              0,
              "#0d0887"
             ],
             [
              0.1111111111111111,
              "#46039f"
             ],
             [
              0.2222222222222222,
              "#7201a8"
             ],
             [
              0.3333333333333333,
              "#9c179e"
             ],
             [
              0.4444444444444444,
              "#bd3786"
             ],
             [
              0.5555555555555556,
              "#d8576b"
             ],
             [
              0.6666666666666666,
              "#ed7953"
             ],
             [
              0.7777777777777778,
              "#fb9f3a"
             ],
             [
              0.8888888888888888,
              "#fdca26"
             ],
             [
              1,
              "#f0f921"
             ]
            ],
            "type": "heatmapgl"
           }
          ],
          "histogram": [
           {
            "marker": {
             "pattern": {
              "fillmode": "overlay",
              "size": 10,
              "solidity": 0.2
             }
            },
            "type": "histogram"
           }
          ],
          "histogram2d": [
           {
            "colorbar": {
             "outlinewidth": 0,
             "ticks": ""
            },
            "colorscale": [
             [
              0,
              "#0d0887"
             ],
             [
              0.1111111111111111,
              "#46039f"
             ],
             [
              0.2222222222222222,
              "#7201a8"
             ],
             [
              0.3333333333333333,
              "#9c179e"
             ],
             [
              0.4444444444444444,
              "#bd3786"
             ],
             [
              0.5555555555555556,
              "#d8576b"
             ],
             [
              0.6666666666666666,
              "#ed7953"
             ],
             [
              0.7777777777777778,
              "#fb9f3a"
             ],
             [
              0.8888888888888888,
              "#fdca26"
             ],
             [
              1,
              "#f0f921"
             ]
            ],
            "type": "histogram2d"
           }
          ],
          "histogram2dcontour": [
           {
            "colorbar": {
             "outlinewidth": 0,
             "ticks": ""
            },
            "colorscale": [
             [
              0,
              "#0d0887"
             ],
             [
              0.1111111111111111,
              "#46039f"
             ],
             [
              0.2222222222222222,
              "#7201a8"
             ],
             [
              0.3333333333333333,
              "#9c179e"
             ],
             [
              0.4444444444444444,
              "#bd3786"
             ],
             [
              0.5555555555555556,
              "#d8576b"
             ],
             [
              0.6666666666666666,
              "#ed7953"
             ],
             [
              0.7777777777777778,
              "#fb9f3a"
             ],
             [
              0.8888888888888888,
              "#fdca26"
             ],
             [
              1,
              "#f0f921"
             ]
            ],
            "type": "histogram2dcontour"
           }
          ],
          "mesh3d": [
           {
            "colorbar": {
             "outlinewidth": 0,
             "ticks": ""
            },
            "type": "mesh3d"
           }
          ],
          "parcoords": [
           {
            "line": {
             "colorbar": {
              "outlinewidth": 0,
              "ticks": ""
             }
            },
            "type": "parcoords"
           }
          ],
          "pie": [
           {
            "automargin": true,
            "type": "pie"
           }
          ],
          "scatter": [
           {
            "fillpattern": {
             "fillmode": "overlay",
             "size": 10,
             "solidity": 0.2
            },
            "type": "scatter"
           }
          ],
          "scatter3d": [
           {
            "line": {
             "colorbar": {
              "outlinewidth": 0,
              "ticks": ""
             }
            },
            "marker": {
             "colorbar": {
              "outlinewidth": 0,
              "ticks": ""
             }
            },
            "type": "scatter3d"
           }
          ],
          "scattercarpet": [
           {
            "marker": {
             "colorbar": {
              "outlinewidth": 0,
              "ticks": ""
             }
            },
            "type": "scattercarpet"
           }
          ],
          "scattergeo": [
           {
            "marker": {
             "colorbar": {
              "outlinewidth": 0,
              "ticks": ""
             }
            },
            "type": "scattergeo"
           }
          ],
          "scattergl": [
           {
            "marker": {
             "colorbar": {
              "outlinewidth": 0,
              "ticks": ""
             }
            },
            "type": "scattergl"
           }
          ],
          "scattermapbox": [
           {
            "marker": {
             "colorbar": {
              "outlinewidth": 0,
              "ticks": ""
             }
            },
            "type": "scattermapbox"
           }
          ],
          "scatterpolar": [
           {
            "marker": {
             "colorbar": {
              "outlinewidth": 0,
              "ticks": ""
             }
            },
            "type": "scatterpolar"
           }
          ],
          "scatterpolargl": [
           {
            "marker": {
             "colorbar": {
              "outlinewidth": 0,
              "ticks": ""
             }
            },
            "type": "scatterpolargl"
           }
          ],
          "scatterternary": [
           {
            "marker": {
             "colorbar": {
              "outlinewidth": 0,
              "ticks": ""
             }
            },
            "type": "scatterternary"
           }
          ],
          "surface": [
           {
            "colorbar": {
             "outlinewidth": 0,
             "ticks": ""
            },
            "colorscale": [
             [
              0,
              "#0d0887"
             ],
             [
              0.1111111111111111,
              "#46039f"
             ],
             [
              0.2222222222222222,
              "#7201a8"
             ],
             [
              0.3333333333333333,
              "#9c179e"
             ],
             [
              0.4444444444444444,
              "#bd3786"
             ],
             [
              0.5555555555555556,
              "#d8576b"
             ],
             [
              0.6666666666666666,
              "#ed7953"
             ],
             [
              0.7777777777777778,
              "#fb9f3a"
             ],
             [
              0.8888888888888888,
              "#fdca26"
             ],
             [
              1,
              "#f0f921"
             ]
            ],
            "type": "surface"
           }
          ],
          "table": [
           {
            "cells": {
             "fill": {
              "color": "#EBF0F8"
             },
             "line": {
              "color": "white"
             }
            },
            "header": {
             "fill": {
              "color": "#C8D4E3"
             },
             "line": {
              "color": "white"
             }
            },
            "type": "table"
           }
          ]
         },
         "layout": {
          "annotationdefaults": {
           "arrowcolor": "#2a3f5f",
           "arrowhead": 0,
           "arrowwidth": 1
          },
          "autotypenumbers": "strict",
          "coloraxis": {
           "colorbar": {
            "outlinewidth": 0,
            "ticks": ""
           }
          },
          "colorscale": {
           "diverging": [
            [
             0,
             "#8e0152"
            ],
            [
             0.1,
             "#c51b7d"
            ],
            [
             0.2,
             "#de77ae"
            ],
            [
             0.3,
             "#f1b6da"
            ],
            [
             0.4,
             "#fde0ef"
            ],
            [
             0.5,
             "#f7f7f7"
            ],
            [
             0.6,
             "#e6f5d0"
            ],
            [
             0.7,
             "#b8e186"
            ],
            [
             0.8,
             "#7fbc41"
            ],
            [
             0.9,
             "#4d9221"
            ],
            [
             1,
             "#276419"
            ]
           ],
           "sequential": [
            [
             0,
             "#0d0887"
            ],
            [
             0.1111111111111111,
             "#46039f"
            ],
            [
             0.2222222222222222,
             "#7201a8"
            ],
            [
             0.3333333333333333,
             "#9c179e"
            ],
            [
             0.4444444444444444,
             "#bd3786"
            ],
            [
             0.5555555555555556,
             "#d8576b"
            ],
            [
             0.6666666666666666,
             "#ed7953"
            ],
            [
             0.7777777777777778,
             "#fb9f3a"
            ],
            [
             0.8888888888888888,
             "#fdca26"
            ],
            [
             1,
             "#f0f921"
            ]
           ],
           "sequentialminus": [
            [
             0,
             "#0d0887"
            ],
            [
             0.1111111111111111,
             "#46039f"
            ],
            [
             0.2222222222222222,
             "#7201a8"
            ],
            [
             0.3333333333333333,
             "#9c179e"
            ],
            [
             0.4444444444444444,
             "#bd3786"
            ],
            [
             0.5555555555555556,
             "#d8576b"
            ],
            [
             0.6666666666666666,
             "#ed7953"
            ],
            [
             0.7777777777777778,
             "#fb9f3a"
            ],
            [
             0.8888888888888888,
             "#fdca26"
            ],
            [
             1,
             "#f0f921"
            ]
           ]
          },
          "colorway": [
           "#636efa",
           "#EF553B",
           "#00cc96",
           "#ab63fa",
           "#FFA15A",
           "#19d3f3",
           "#FF6692",
           "#B6E880",
           "#FF97FF",
           "#FECB52"
          ],
          "font": {
           "color": "#2a3f5f"
          },
          "geo": {
           "bgcolor": "white",
           "lakecolor": "white",
           "landcolor": "#E5ECF6",
           "showlakes": true,
           "showland": true,
           "subunitcolor": "white"
          },
          "hoverlabel": {
           "align": "left"
          },
          "hovermode": "closest",
          "mapbox": {
           "style": "light"
          },
          "paper_bgcolor": "white",
          "plot_bgcolor": "#E5ECF6",
          "polar": {
           "angularaxis": {
            "gridcolor": "white",
            "linecolor": "white",
            "ticks": ""
           },
           "bgcolor": "#E5ECF6",
           "radialaxis": {
            "gridcolor": "white",
            "linecolor": "white",
            "ticks": ""
           }
          },
          "scene": {
           "xaxis": {
            "backgroundcolor": "#E5ECF6",
            "gridcolor": "white",
            "gridwidth": 2,
            "linecolor": "white",
            "showbackground": true,
            "ticks": "",
            "zerolinecolor": "white"
           },
           "yaxis": {
            "backgroundcolor": "#E5ECF6",
            "gridcolor": "white",
            "gridwidth": 2,
            "linecolor": "white",
            "showbackground": true,
            "ticks": "",
            "zerolinecolor": "white"
           },
           "zaxis": {
            "backgroundcolor": "#E5ECF6",
            "gridcolor": "white",
            "gridwidth": 2,
            "linecolor": "white",
            "showbackground": true,
            "ticks": "",
            "zerolinecolor": "white"
           }
          },
          "shapedefaults": {
           "line": {
            "color": "#2a3f5f"
           }
          },
          "ternary": {
           "aaxis": {
            "gridcolor": "white",
            "linecolor": "white",
            "ticks": ""
           },
           "baxis": {
            "gridcolor": "white",
            "linecolor": "white",
            "ticks": ""
           },
           "bgcolor": "#E5ECF6",
           "caxis": {
            "gridcolor": "white",
            "linecolor": "white",
            "ticks": ""
           }
          },
          "title": {
           "x": 0.05
          },
          "xaxis": {
           "automargin": true,
           "gridcolor": "white",
           "linecolor": "white",
           "ticks": "",
           "title": {
            "standoff": 15
           },
           "zerolinecolor": "white",
           "zerolinewidth": 2
          },
          "yaxis": {
           "automargin": true,
           "gridcolor": "white",
           "linecolor": "white",
           "ticks": "",
           "title": {
            "standoff": 15
           },
           "zerolinecolor": "white",
           "zerolinewidth": 2
          }
         }
        },
        "title": {
         "text": "Nombre d'écoutes Spotify en 2024 par année de sortie"
        }
       }
      }
     },
     "metadata": {},
     "output_type": "display_data"
    }
   ],
   "source": [
    "# TODO: Afficher un graphique en secteur représentant le nombre d'écoutes Spotify en 2024 par année de sortie.\n",
    "fig_1=px.pie(data_release_streams,values=\"Spotify Streams\",names=\"Spotify Streams\", title= \"Nombre d'écoutes Spotify en 2024 par année de sortie\" )\n",
    "fig_1.show()"
   ]
  },
  {
   "cell_type": "code",
   "execution_count": 32,
   "metadata": {},
   "outputs": [
    {
     "data": {
      "application/vnd.plotly.v1+json": {
       "config": {
        "plotlyServerURL": "https://plot.ly"
       },
       "data": [
        {
         "alignmentgroup": "True",
         "bingroup": "x",
         "hovertemplate": "Explicit Track=0<br>Release Year=%{x}<br>count=%{y}<extra></extra>",
         "legendgroup": "0",
         "marker": {
          "color": "#636efa",
          "pattern": {
           "shape": ""
          }
         },
         "name": "0",
         "offsetgroup": "0",
         "orientation": "v",
         "showlegend": true,
         "type": "histogram",
         "x": [
          2024,
          2024,
          2024,
          2024,
          2024,
          2024,
          2023,
          2023,
          2023,
          2019,
          2024,
          2023,
          2023,
          2023,
          2017,
          2019,
          2022,
          2024,
          2022,
          2022,
          2023,
          2019,
          2023,
          2022,
          2023,
          2024,
          2023,
          2017,
          2023,
          2020,
          2023,
          2023,
          2022,
          2018,
          2022,
          2023,
          2024,
          2023,
          2022,
          2023,
          2022,
          2022,
          2015,
          2023,
          2023,
          2023,
          2022,
          2023,
          2021,
          2021,
          2022,
          2022,
          2023,
          2018,
          2022,
          2018,
          2016,
          2019,
          2020,
          2019,
          2023,
          2024,
          2022,
          2020,
          2019,
          2024,
          2014,
          2011,
          2022,
          2022,
          2018,
          2019,
          2019,
          2021,
          2022,
          2023,
          2018,
          2023,
          2019,
          2022,
          2018,
          2023,
          2022,
          2023,
          2015,
          2023,
          2022,
          2015,
          2022,
          2020,
          2018,
          2023,
          2023,
          2017,
          2017,
          2016,
          2023,
          2024,
          2022,
          2020,
          2012,
          2023,
          2015,
          2011,
          2022,
          2019,
          2017,
          2020,
          2018,
          2023,
          2023,
          2021,
          2023,
          2017,
          2019,
          2019,
          2022,
          2021,
          2013,
          2021,
          2019,
          2020,
          2023,
          2020,
          2021,
          2022,
          2013,
          2019,
          2019,
          2022,
          2023,
          2019,
          2023,
          2023,
          2022,
          2017,
          2015,
          2021,
          2019,
          2022,
          2015,
          2022,
          2019,
          2021,
          2022,
          2021,
          2018,
          2023,
          2023,
          2011,
          2022,
          2021,
          2023,
          2017,
          2016,
          2017,
          2023,
          2023,
          2016,
          2012,
          2015,
          2020,
          2022,
          2018,
          2023,
          2019,
          2018,
          2022,
          2014,
          2018,
          2017,
          2017,
          2014,
          2021,
          2010,
          2022,
          2022,
          2020,
          2019,
          2020,
          2019,
          2019,
          2022,
          2019,
          2023,
          2019,
          2022,
          2011,
          2023,
          2000,
          2020,
          2012,
          2022,
          2014,
          2023,
          2009,
          2022,
          2023,
          2015,
          2013,
          2019,
          2022,
          2020,
          2018,
          2012,
          2013,
          2021,
          2019,
          2021,
          2023,
          2019,
          2021,
          2016,
          2017,
          2021,
          1994,
          2019,
          2023,
          2022,
          2021,
          2017,
          2022,
          2016,
          2017,
          2020,
          2013,
          2014,
          2017,
          2015,
          2022,
          2019,
          2014,
          2022,
          2019,
          2014,
          2019,
          2023,
          2020,
          2010,
          2015,
          2013,
          2022,
          2022,
          2013,
          2021,
          2022,
          2022,
          2021,
          2022,
          2022,
          2013,
          2019,
          2011,
          2016,
          2015,
          2023,
          2019,
          2023,
          2019,
          2008,
          2016,
          2020,
          2022,
          2022,
          2021,
          2012,
          2023,
          2023,
          2023,
          2022,
          2022,
          2022,
          2022,
          2017,
          2018,
          2011,
          2014,
          2023,
          2019,
          2022,
          2014,
          2023,
          2015,
          2017,
          2020,
          2023,
          2018,
          2006,
          2023,
          2023,
          2012,
          2010,
          2023,
          2014,
          2023,
          2018,
          2016,
          2012,
          2004,
          2019,
          2013,
          2008,
          2019,
          2016,
          2023,
          2016,
          2016,
          2023,
          2018,
          2022,
          2020,
          2021,
          2023,
          2018,
          2022,
          2018,
          2019,
          2019,
          2020,
          2017,
          2020,
          2022,
          2009,
          2015,
          2023,
          2019,
          2022,
          2015,
          2014,
          2014,
          2017,
          1991,
          2011,
          2007,
          2015,
          2022
         ],
         "xaxis": "x",
         "yaxis": "y"
        },
        {
         "alignmentgroup": "True",
         "bingroup": "x",
         "hovertemplate": "Explicit Track=1<br>Release Year=%{x}<br>count=%{y}<extra></extra>",
         "legendgroup": "1",
         "marker": {
          "color": "#EF553B",
          "pattern": {
           "shape": ""
          }
         },
         "name": "1",
         "offsetgroup": "1",
         "orientation": "v",
         "showlegend": true,
         "type": "histogram",
         "x": [
          2024,
          2023,
          2024,
          2023,
          2024,
          2023,
          2022,
          2023,
          2023,
          2021,
          2023,
          2023,
          2023,
          2022,
          2023,
          2019,
          2022,
          2023,
          2022,
          2023,
          2020,
          2023,
          2022,
          2018,
          2023,
          2023,
          2022,
          2024,
          2022,
          2022,
          2020,
          2018,
          2022,
          2023,
          2022,
          2016,
          2021,
          2023,
          2018,
          2016,
          2021,
          2022,
          2023,
          2022,
          2019,
          2018,
          2020,
          2023,
          2019,
          2016,
          2020,
          2016,
          2023,
          2023,
          2023,
          2023,
          2020,
          2022,
          2023,
          2021,
          2022,
          2020,
          2021,
          2018,
          2015,
          2020,
          2019,
          2023,
          2018,
          2023,
          2019,
          2019,
          2021,
          2016,
          2019,
          2018,
          2021,
          2021,
          2022,
          2023,
          2020,
          2022,
          2019,
          2022,
          2023,
          2019,
          2023,
          2021,
          2020,
          2019,
          2024,
          2019,
          2022,
          2020,
          2020,
          2020,
          2021,
          2023,
          2022,
          2022,
          2022,
          2018,
          2018,
          2021,
          2018,
          2023,
          2018,
          2020,
          2023,
          2022,
          2018,
          2021,
          2023,
          2021,
          2012,
          2018,
          2022,
          2019,
          2022,
          2022,
          2018,
          2020,
          2022,
          2022,
          2016,
          2023,
          2022,
          2021,
          2023,
          2022,
          2019,
          2019,
          2019,
          2017,
          2022,
          2019,
          2022,
          2022,
          2023,
          2023,
          2020,
          2020,
          2014,
          2017,
          2020,
          2023,
          2016,
          2020,
          2023,
          2023,
          2022,
          2018,
          2019,
          2023,
          2020,
          2021,
          2014,
          2021,
          2022,
          2022,
          2021,
          2019,
          2021,
          2015,
          2022,
          2021,
          2023,
          2022,
          2020,
          2023,
          2019,
          2019,
          2022,
          2021,
          2014,
          2022,
          2023,
          2019,
          2002,
          2023,
          2017,
          2022,
          2020,
          2000,
          2017,
          2016,
          2018,
          2023,
          2019,
          2015,
          2023,
          2018,
          2011,
          2018,
          2021,
          2020,
          2002,
          2024,
          2023,
          2023,
          2022,
          2020,
          2021,
          2017,
          2021,
          2021,
          2021,
          2012,
          2018,
          2019,
          2005,
          2019,
          2015,
          2023,
          2017,
          2017,
          2013,
          2022,
          2018,
          2022,
          2020,
          2023,
          2013,
          2009,
          2008,
          2021,
          2019,
          2022,
          2022
         ],
         "xaxis": "x",
         "yaxis": "y"
        }
       ],
       "layout": {
        "barmode": "relative",
        "legend": {
         "title": {
          "text": "Explicit Track"
         },
         "tracegroupgap": 0
        },
        "margin": {
         "t": 60
        },
        "template": {
         "data": {
          "bar": [
           {
            "error_x": {
             "color": "#2a3f5f"
            },
            "error_y": {
             "color": "#2a3f5f"
            },
            "marker": {
             "line": {
              "color": "#E5ECF6",
              "width": 0.5
             },
             "pattern": {
              "fillmode": "overlay",
              "size": 10,
              "solidity": 0.2
             }
            },
            "type": "bar"
           }
          ],
          "barpolar": [
           {
            "marker": {
             "line": {
              "color": "#E5ECF6",
              "width": 0.5
             },
             "pattern": {
              "fillmode": "overlay",
              "size": 10,
              "solidity": 0.2
             }
            },
            "type": "barpolar"
           }
          ],
          "carpet": [
           {
            "aaxis": {
             "endlinecolor": "#2a3f5f",
             "gridcolor": "white",
             "linecolor": "white",
             "minorgridcolor": "white",
             "startlinecolor": "#2a3f5f"
            },
            "baxis": {
             "endlinecolor": "#2a3f5f",
             "gridcolor": "white",
             "linecolor": "white",
             "minorgridcolor": "white",
             "startlinecolor": "#2a3f5f"
            },
            "type": "carpet"
           }
          ],
          "choropleth": [
           {
            "colorbar": {
             "outlinewidth": 0,
             "ticks": ""
            },
            "type": "choropleth"
           }
          ],
          "contour": [
           {
            "colorbar": {
             "outlinewidth": 0,
             "ticks": ""
            },
            "colorscale": [
             [
              0,
              "#0d0887"
             ],
             [
              0.1111111111111111,
              "#46039f"
             ],
             [
              0.2222222222222222,
              "#7201a8"
             ],
             [
              0.3333333333333333,
              "#9c179e"
             ],
             [
              0.4444444444444444,
              "#bd3786"
             ],
             [
              0.5555555555555556,
              "#d8576b"
             ],
             [
              0.6666666666666666,
              "#ed7953"
             ],
             [
              0.7777777777777778,
              "#fb9f3a"
             ],
             [
              0.8888888888888888,
              "#fdca26"
             ],
             [
              1,
              "#f0f921"
             ]
            ],
            "type": "contour"
           }
          ],
          "contourcarpet": [
           {
            "colorbar": {
             "outlinewidth": 0,
             "ticks": ""
            },
            "type": "contourcarpet"
           }
          ],
          "heatmap": [
           {
            "colorbar": {
             "outlinewidth": 0,
             "ticks": ""
            },
            "colorscale": [
             [
              0,
              "#0d0887"
             ],
             [
              0.1111111111111111,
              "#46039f"
             ],
             [
              0.2222222222222222,
              "#7201a8"
             ],
             [
              0.3333333333333333,
              "#9c179e"
             ],
             [
              0.4444444444444444,
              "#bd3786"
             ],
             [
              0.5555555555555556,
              "#d8576b"
             ],
             [
              0.6666666666666666,
              "#ed7953"
             ],
             [
              0.7777777777777778,
              "#fb9f3a"
             ],
             [
              0.8888888888888888,
              "#fdca26"
             ],
             [
              1,
              "#f0f921"
             ]
            ],
            "type": "heatmap"
           }
          ],
          "heatmapgl": [
           {
            "colorbar": {
             "outlinewidth": 0,
             "ticks": ""
            },
            "colorscale": [
             [
              0,
              "#0d0887"
             ],
             [
              0.1111111111111111,
              "#46039f"
             ],
             [
              0.2222222222222222,
              "#7201a8"
             ],
             [
              0.3333333333333333,
              "#9c179e"
             ],
             [
              0.4444444444444444,
              "#bd3786"
             ],
             [
              0.5555555555555556,
              "#d8576b"
             ],
             [
              0.6666666666666666,
              "#ed7953"
             ],
             [
              0.7777777777777778,
              "#fb9f3a"
             ],
             [
              0.8888888888888888,
              "#fdca26"
             ],
             [
              1,
              "#f0f921"
             ]
            ],
            "type": "heatmapgl"
           }
          ],
          "histogram": [
           {
            "marker": {
             "pattern": {
              "fillmode": "overlay",
              "size": 10,
              "solidity": 0.2
             }
            },
            "type": "histogram"
           }
          ],
          "histogram2d": [
           {
            "colorbar": {
             "outlinewidth": 0,
             "ticks": ""
            },
            "colorscale": [
             [
              0,
              "#0d0887"
             ],
             [
              0.1111111111111111,
              "#46039f"
             ],
             [
              0.2222222222222222,
              "#7201a8"
             ],
             [
              0.3333333333333333,
              "#9c179e"
             ],
             [
              0.4444444444444444,
              "#bd3786"
             ],
             [
              0.5555555555555556,
              "#d8576b"
             ],
             [
              0.6666666666666666,
              "#ed7953"
             ],
             [
              0.7777777777777778,
              "#fb9f3a"
             ],
             [
              0.8888888888888888,
              "#fdca26"
             ],
             [
              1,
              "#f0f921"
             ]
            ],
            "type": "histogram2d"
           }
          ],
          "histogram2dcontour": [
           {
            "colorbar": {
             "outlinewidth": 0,
             "ticks": ""
            },
            "colorscale": [
             [
              0,
              "#0d0887"
             ],
             [
              0.1111111111111111,
              "#46039f"
             ],
             [
              0.2222222222222222,
              "#7201a8"
             ],
             [
              0.3333333333333333,
              "#9c179e"
             ],
             [
              0.4444444444444444,
              "#bd3786"
             ],
             [
              0.5555555555555556,
              "#d8576b"
             ],
             [
              0.6666666666666666,
              "#ed7953"
             ],
             [
              0.7777777777777778,
              "#fb9f3a"
             ],
             [
              0.8888888888888888,
              "#fdca26"
             ],
             [
              1,
              "#f0f921"
             ]
            ],
            "type": "histogram2dcontour"
           }
          ],
          "mesh3d": [
           {
            "colorbar": {
             "outlinewidth": 0,
             "ticks": ""
            },
            "type": "mesh3d"
           }
          ],
          "parcoords": [
           {
            "line": {
             "colorbar": {
              "outlinewidth": 0,
              "ticks": ""
             }
            },
            "type": "parcoords"
           }
          ],
          "pie": [
           {
            "automargin": true,
            "type": "pie"
           }
          ],
          "scatter": [
           {
            "fillpattern": {
             "fillmode": "overlay",
             "size": 10,
             "solidity": 0.2
            },
            "type": "scatter"
           }
          ],
          "scatter3d": [
           {
            "line": {
             "colorbar": {
              "outlinewidth": 0,
              "ticks": ""
             }
            },
            "marker": {
             "colorbar": {
              "outlinewidth": 0,
              "ticks": ""
             }
            },
            "type": "scatter3d"
           }
          ],
          "scattercarpet": [
           {
            "marker": {
             "colorbar": {
              "outlinewidth": 0,
              "ticks": ""
             }
            },
            "type": "scattercarpet"
           }
          ],
          "scattergeo": [
           {
            "marker": {
             "colorbar": {
              "outlinewidth": 0,
              "ticks": ""
             }
            },
            "type": "scattergeo"
           }
          ],
          "scattergl": [
           {
            "marker": {
             "colorbar": {
              "outlinewidth": 0,
              "ticks": ""
             }
            },
            "type": "scattergl"
           }
          ],
          "scattermapbox": [
           {
            "marker": {
             "colorbar": {
              "outlinewidth": 0,
              "ticks": ""
             }
            },
            "type": "scattermapbox"
           }
          ],
          "scatterpolar": [
           {
            "marker": {
             "colorbar": {
              "outlinewidth": 0,
              "ticks": ""
             }
            },
            "type": "scatterpolar"
           }
          ],
          "scatterpolargl": [
           {
            "marker": {
             "colorbar": {
              "outlinewidth": 0,
              "ticks": ""
             }
            },
            "type": "scatterpolargl"
           }
          ],
          "scatterternary": [
           {
            "marker": {
             "colorbar": {
              "outlinewidth": 0,
              "ticks": ""
             }
            },
            "type": "scatterternary"
           }
          ],
          "surface": [
           {
            "colorbar": {
             "outlinewidth": 0,
             "ticks": ""
            },
            "colorscale": [
             [
              0,
              "#0d0887"
             ],
             [
              0.1111111111111111,
              "#46039f"
             ],
             [
              0.2222222222222222,
              "#7201a8"
             ],
             [
              0.3333333333333333,
              "#9c179e"
             ],
             [
              0.4444444444444444,
              "#bd3786"
             ],
             [
              0.5555555555555556,
              "#d8576b"
             ],
             [
              0.6666666666666666,
              "#ed7953"
             ],
             [
              0.7777777777777778,
              "#fb9f3a"
             ],
             [
              0.8888888888888888,
              "#fdca26"
             ],
             [
              1,
              "#f0f921"
             ]
            ],
            "type": "surface"
           }
          ],
          "table": [
           {
            "cells": {
             "fill": {
              "color": "#EBF0F8"
             },
             "line": {
              "color": "white"
             }
            },
            "header": {
             "fill": {
              "color": "#C8D4E3"
             },
             "line": {
              "color": "white"
             }
            },
            "type": "table"
           }
          ]
         },
         "layout": {
          "annotationdefaults": {
           "arrowcolor": "#2a3f5f",
           "arrowhead": 0,
           "arrowwidth": 1
          },
          "autotypenumbers": "strict",
          "coloraxis": {
           "colorbar": {
            "outlinewidth": 0,
            "ticks": ""
           }
          },
          "colorscale": {
           "diverging": [
            [
             0,
             "#8e0152"
            ],
            [
             0.1,
             "#c51b7d"
            ],
            [
             0.2,
             "#de77ae"
            ],
            [
             0.3,
             "#f1b6da"
            ],
            [
             0.4,
             "#fde0ef"
            ],
            [
             0.5,
             "#f7f7f7"
            ],
            [
             0.6,
             "#e6f5d0"
            ],
            [
             0.7,
             "#b8e186"
            ],
            [
             0.8,
             "#7fbc41"
            ],
            [
             0.9,
             "#4d9221"
            ],
            [
             1,
             "#276419"
            ]
           ],
           "sequential": [
            [
             0,
             "#0d0887"
            ],
            [
             0.1111111111111111,
             "#46039f"
            ],
            [
             0.2222222222222222,
             "#7201a8"
            ],
            [
             0.3333333333333333,
             "#9c179e"
            ],
            [
             0.4444444444444444,
             "#bd3786"
            ],
            [
             0.5555555555555556,
             "#d8576b"
            ],
            [
             0.6666666666666666,
             "#ed7953"
            ],
            [
             0.7777777777777778,
             "#fb9f3a"
            ],
            [
             0.8888888888888888,
             "#fdca26"
            ],
            [
             1,
             "#f0f921"
            ]
           ],
           "sequentialminus": [
            [
             0,
             "#0d0887"
            ],
            [
             0.1111111111111111,
             "#46039f"
            ],
            [
             0.2222222222222222,
             "#7201a8"
            ],
            [
             0.3333333333333333,
             "#9c179e"
            ],
            [
             0.4444444444444444,
             "#bd3786"
            ],
            [
             0.5555555555555556,
             "#d8576b"
            ],
            [
             0.6666666666666666,
             "#ed7953"
            ],
            [
             0.7777777777777778,
             "#fb9f3a"
            ],
            [
             0.8888888888888888,
             "#fdca26"
            ],
            [
             1,
             "#f0f921"
            ]
           ]
          },
          "colorway": [
           "#636efa",
           "#EF553B",
           "#00cc96",
           "#ab63fa",
           "#FFA15A",
           "#19d3f3",
           "#FF6692",
           "#B6E880",
           "#FF97FF",
           "#FECB52"
          ],
          "font": {
           "color": "#2a3f5f"
          },
          "geo": {
           "bgcolor": "white",
           "lakecolor": "white",
           "landcolor": "#E5ECF6",
           "showlakes": true,
           "showland": true,
           "subunitcolor": "white"
          },
          "hoverlabel": {
           "align": "left"
          },
          "hovermode": "closest",
          "mapbox": {
           "style": "light"
          },
          "paper_bgcolor": "white",
          "plot_bgcolor": "#E5ECF6",
          "polar": {
           "angularaxis": {
            "gridcolor": "white",
            "linecolor": "white",
            "ticks": ""
           },
           "bgcolor": "#E5ECF6",
           "radialaxis": {
            "gridcolor": "white",
            "linecolor": "white",
            "ticks": ""
           }
          },
          "scene": {
           "xaxis": {
            "backgroundcolor": "#E5ECF6",
            "gridcolor": "white",
            "gridwidth": 2,
            "linecolor": "white",
            "showbackground": true,
            "ticks": "",
            "zerolinecolor": "white"
           },
           "yaxis": {
            "backgroundcolor": "#E5ECF6",
            "gridcolor": "white",
            "gridwidth": 2,
            "linecolor": "white",
            "showbackground": true,
            "ticks": "",
            "zerolinecolor": "white"
           },
           "zaxis": {
            "backgroundcolor": "#E5ECF6",
            "gridcolor": "white",
            "gridwidth": 2,
            "linecolor": "white",
            "showbackground": true,
            "ticks": "",
            "zerolinecolor": "white"
           }
          },
          "shapedefaults": {
           "line": {
            "color": "#2a3f5f"
           }
          },
          "ternary": {
           "aaxis": {
            "gridcolor": "white",
            "linecolor": "white",
            "ticks": ""
           },
           "baxis": {
            "gridcolor": "white",
            "linecolor": "white",
            "ticks": ""
           },
           "bgcolor": "#E5ECF6",
           "caxis": {
            "gridcolor": "white",
            "linecolor": "white",
            "ticks": ""
           }
          },
          "title": {
           "x": 0.05
          },
          "xaxis": {
           "automargin": true,
           "gridcolor": "white",
           "linecolor": "white",
           "ticks": "",
           "title": {
            "standoff": 15
           },
           "zerolinecolor": "white",
           "zerolinewidth": 2
          },
          "yaxis": {
           "automargin": true,
           "gridcolor": "white",
           "linecolor": "white",
           "ticks": "",
           "title": {
            "standoff": 15
           },
           "zerolinecolor": "white",
           "zerolinewidth": 2
          }
         }
        },
        "xaxis": {
         "anchor": "y",
         "domain": [
          0,
          1
         ],
         "title": {
          "text": "Release Year"
         }
        },
        "yaxis": {
         "anchor": "x",
         "domain": [
          0,
          1
         ],
         "title": {
          "text": "count"
         }
        }
       }
      }
     },
     "metadata": {},
     "output_type": "display_data"
    }
   ],
   "source": [
    "# TODO: Afficher un histogramme représentant la proportion de chanson à contenu explicite par année de sortie.\n",
    "\n",
    "\n",
    "fig_2 = px.histogram(data_frame, x=\"Release Year\", color=\"Explicit Track\")\n",
    "fig_2.show()"
   ]
  },
  {
   "cell_type": "code",
   "execution_count": 33,
   "metadata": {},
   "outputs": [
    {
     "data": {
      "application/vnd.plotly.v1+json": {
       "config": {
        "plotlyServerURL": "https://plot.ly"
       },
       "data": [
        {
         "alignmentgroup": "True",
         "hovertemplate": "Track=%{x}<br>Spotify Streams=%{text}<extra></extra>",
         "legendgroup": "",
         "marker": {
          "color": "#636efa",
          "pattern": {
           "shape": ""
          }
         },
         "name": "",
         "offsetgroup": "",
         "orientation": "v",
         "showlegend": false,
         "text": [
          4281468720,
          3909458734,
          3291262413,
          3071214106,
          3006226762,
          2548389305,
          2525355904,
          2447973078,
          2306740926,
          2270796677
         ],
         "textposition": "auto",
         "texttemplate": "%{y}",
         "type": "bar",
         "x": [
          "Blinding Lights",
          "Shape of You",
          "Starboy",
          "Dance Monkey",
          "Believer",
          "Lucid Dreams",
          "Photograph",
          "Shallow",
          "The Hills",
          "Demons"
         ],
         "xaxis": "x",
         "y": [
          4281468720,
          3909458734,
          3291262413,
          3071214106,
          3006226762,
          2548389305,
          2525355904,
          2447973078,
          2306740926,
          2270796677
         ],
         "yaxis": "y"
        }
       ],
       "layout": {
        "barmode": "relative",
        "legend": {
         "tracegroupgap": 0
        },
        "template": {
         "data": {
          "bar": [
           {
            "error_x": {
             "color": "#2a3f5f"
            },
            "error_y": {
             "color": "#2a3f5f"
            },
            "marker": {
             "line": {
              "color": "#E5ECF6",
              "width": 0.5
             },
             "pattern": {
              "fillmode": "overlay",
              "size": 10,
              "solidity": 0.2
             }
            },
            "type": "bar"
           }
          ],
          "barpolar": [
           {
            "marker": {
             "line": {
              "color": "#E5ECF6",
              "width": 0.5
             },
             "pattern": {
              "fillmode": "overlay",
              "size": 10,
              "solidity": 0.2
             }
            },
            "type": "barpolar"
           }
          ],
          "carpet": [
           {
            "aaxis": {
             "endlinecolor": "#2a3f5f",
             "gridcolor": "white",
             "linecolor": "white",
             "minorgridcolor": "white",
             "startlinecolor": "#2a3f5f"
            },
            "baxis": {
             "endlinecolor": "#2a3f5f",
             "gridcolor": "white",
             "linecolor": "white",
             "minorgridcolor": "white",
             "startlinecolor": "#2a3f5f"
            },
            "type": "carpet"
           }
          ],
          "choropleth": [
           {
            "colorbar": {
             "outlinewidth": 0,
             "ticks": ""
            },
            "type": "choropleth"
           }
          ],
          "contour": [
           {
            "colorbar": {
             "outlinewidth": 0,
             "ticks": ""
            },
            "colorscale": [
             [
              0,
              "#0d0887"
             ],
             [
              0.1111111111111111,
              "#46039f"
             ],
             [
              0.2222222222222222,
              "#7201a8"
             ],
             [
              0.3333333333333333,
              "#9c179e"
             ],
             [
              0.4444444444444444,
              "#bd3786"
             ],
             [
              0.5555555555555556,
              "#d8576b"
             ],
             [
              0.6666666666666666,
              "#ed7953"
             ],
             [
              0.7777777777777778,
              "#fb9f3a"
             ],
             [
              0.8888888888888888,
              "#fdca26"
             ],
             [
              1,
              "#f0f921"
             ]
            ],
            "type": "contour"
           }
          ],
          "contourcarpet": [
           {
            "colorbar": {
             "outlinewidth": 0,
             "ticks": ""
            },
            "type": "contourcarpet"
           }
          ],
          "heatmap": [
           {
            "colorbar": {
             "outlinewidth": 0,
             "ticks": ""
            },
            "colorscale": [
             [
              0,
              "#0d0887"
             ],
             [
              0.1111111111111111,
              "#46039f"
             ],
             [
              0.2222222222222222,
              "#7201a8"
             ],
             [
              0.3333333333333333,
              "#9c179e"
             ],
             [
              0.4444444444444444,
              "#bd3786"
             ],
             [
              0.5555555555555556,
              "#d8576b"
             ],
             [
              0.6666666666666666,
              "#ed7953"
             ],
             [
              0.7777777777777778,
              "#fb9f3a"
             ],
             [
              0.8888888888888888,
              "#fdca26"
             ],
             [
              1,
              "#f0f921"
             ]
            ],
            "type": "heatmap"
           }
          ],
          "heatmapgl": [
           {
            "colorbar": {
             "outlinewidth": 0,
             "ticks": ""
            },
            "colorscale": [
             [
              0,
              "#0d0887"
             ],
             [
              0.1111111111111111,
              "#46039f"
             ],
             [
              0.2222222222222222,
              "#7201a8"
             ],
             [
              0.3333333333333333,
              "#9c179e"
             ],
             [
              0.4444444444444444,
              "#bd3786"
             ],
             [
              0.5555555555555556,
              "#d8576b"
             ],
             [
              0.6666666666666666,
              "#ed7953"
             ],
             [
              0.7777777777777778,
              "#fb9f3a"
             ],
             [
              0.8888888888888888,
              "#fdca26"
             ],
             [
              1,
              "#f0f921"
             ]
            ],
            "type": "heatmapgl"
           }
          ],
          "histogram": [
           {
            "marker": {
             "pattern": {
              "fillmode": "overlay",
              "size": 10,
              "solidity": 0.2
             }
            },
            "type": "histogram"
           }
          ],
          "histogram2d": [
           {
            "colorbar": {
             "outlinewidth": 0,
             "ticks": ""
            },
            "colorscale": [
             [
              0,
              "#0d0887"
             ],
             [
              0.1111111111111111,
              "#46039f"
             ],
             [
              0.2222222222222222,
              "#7201a8"
             ],
             [
              0.3333333333333333,
              "#9c179e"
             ],
             [
              0.4444444444444444,
              "#bd3786"
             ],
             [
              0.5555555555555556,
              "#d8576b"
             ],
             [
              0.6666666666666666,
              "#ed7953"
             ],
             [
              0.7777777777777778,
              "#fb9f3a"
             ],
             [
              0.8888888888888888,
              "#fdca26"
             ],
             [
              1,
              "#f0f921"
             ]
            ],
            "type": "histogram2d"
           }
          ],
          "histogram2dcontour": [
           {
            "colorbar": {
             "outlinewidth": 0,
             "ticks": ""
            },
            "colorscale": [
             [
              0,
              "#0d0887"
             ],
             [
              0.1111111111111111,
              "#46039f"
             ],
             [
              0.2222222222222222,
              "#7201a8"
             ],
             [
              0.3333333333333333,
              "#9c179e"
             ],
             [
              0.4444444444444444,
              "#bd3786"
             ],
             [
              0.5555555555555556,
              "#d8576b"
             ],
             [
              0.6666666666666666,
              "#ed7953"
             ],
             [
              0.7777777777777778,
              "#fb9f3a"
             ],
             [
              0.8888888888888888,
              "#fdca26"
             ],
             [
              1,
              "#f0f921"
             ]
            ],
            "type": "histogram2dcontour"
           }
          ],
          "mesh3d": [
           {
            "colorbar": {
             "outlinewidth": 0,
             "ticks": ""
            },
            "type": "mesh3d"
           }
          ],
          "parcoords": [
           {
            "line": {
             "colorbar": {
              "outlinewidth": 0,
              "ticks": ""
             }
            },
            "type": "parcoords"
           }
          ],
          "pie": [
           {
            "automargin": true,
            "type": "pie"
           }
          ],
          "scatter": [
           {
            "fillpattern": {
             "fillmode": "overlay",
             "size": 10,
             "solidity": 0.2
            },
            "type": "scatter"
           }
          ],
          "scatter3d": [
           {
            "line": {
             "colorbar": {
              "outlinewidth": 0,
              "ticks": ""
             }
            },
            "marker": {
             "colorbar": {
              "outlinewidth": 0,
              "ticks": ""
             }
            },
            "type": "scatter3d"
           }
          ],
          "scattercarpet": [
           {
            "marker": {
             "colorbar": {
              "outlinewidth": 0,
              "ticks": ""
             }
            },
            "type": "scattercarpet"
           }
          ],
          "scattergeo": [
           {
            "marker": {
             "colorbar": {
              "outlinewidth": 0,
              "ticks": ""
             }
            },
            "type": "scattergeo"
           }
          ],
          "scattergl": [
           {
            "marker": {
             "colorbar": {
              "outlinewidth": 0,
              "ticks": ""
             }
            },
            "type": "scattergl"
           }
          ],
          "scattermapbox": [
           {
            "marker": {
             "colorbar": {
              "outlinewidth": 0,
              "ticks": ""
             }
            },
            "type": "scattermapbox"
           }
          ],
          "scatterpolar": [
           {
            "marker": {
             "colorbar": {
              "outlinewidth": 0,
              "ticks": ""
             }
            },
            "type": "scatterpolar"
           }
          ],
          "scatterpolargl": [
           {
            "marker": {
             "colorbar": {
              "outlinewidth": 0,
              "ticks": ""
             }
            },
            "type": "scatterpolargl"
           }
          ],
          "scatterternary": [
           {
            "marker": {
             "colorbar": {
              "outlinewidth": 0,
              "ticks": ""
             }
            },
            "type": "scatterternary"
           }
          ],
          "surface": [
           {
            "colorbar": {
             "outlinewidth": 0,
             "ticks": ""
            },
            "colorscale": [
             [
              0,
              "#0d0887"
             ],
             [
              0.1111111111111111,
              "#46039f"
             ],
             [
              0.2222222222222222,
              "#7201a8"
             ],
             [
              0.3333333333333333,
              "#9c179e"
             ],
             [
              0.4444444444444444,
              "#bd3786"
             ],
             [
              0.5555555555555556,
              "#d8576b"
             ],
             [
              0.6666666666666666,
              "#ed7953"
             ],
             [
              0.7777777777777778,
              "#fb9f3a"
             ],
             [
              0.8888888888888888,
              "#fdca26"
             ],
             [
              1,
              "#f0f921"
             ]
            ],
            "type": "surface"
           }
          ],
          "table": [
           {
            "cells": {
             "fill": {
              "color": "#EBF0F8"
             },
             "line": {
              "color": "white"
             }
            },
            "header": {
             "fill": {
              "color": "#C8D4E3"
             },
             "line": {
              "color": "white"
             }
            },
            "type": "table"
           }
          ]
         },
         "layout": {
          "annotationdefaults": {
           "arrowcolor": "#2a3f5f",
           "arrowhead": 0,
           "arrowwidth": 1
          },
          "autotypenumbers": "strict",
          "coloraxis": {
           "colorbar": {
            "outlinewidth": 0,
            "ticks": ""
           }
          },
          "colorscale": {
           "diverging": [
            [
             0,
             "#8e0152"
            ],
            [
             0.1,
             "#c51b7d"
            ],
            [
             0.2,
             "#de77ae"
            ],
            [
             0.3,
             "#f1b6da"
            ],
            [
             0.4,
             "#fde0ef"
            ],
            [
             0.5,
             "#f7f7f7"
            ],
            [
             0.6,
             "#e6f5d0"
            ],
            [
             0.7,
             "#b8e186"
            ],
            [
             0.8,
             "#7fbc41"
            ],
            [
             0.9,
             "#4d9221"
            ],
            [
             1,
             "#276419"
            ]
           ],
           "sequential": [
            [
             0,
             "#0d0887"
            ],
            [
             0.1111111111111111,
             "#46039f"
            ],
            [
             0.2222222222222222,
             "#7201a8"
            ],
            [
             0.3333333333333333,
             "#9c179e"
            ],
            [
             0.4444444444444444,
             "#bd3786"
            ],
            [
             0.5555555555555556,
             "#d8576b"
            ],
            [
             0.6666666666666666,
             "#ed7953"
            ],
            [
             0.7777777777777778,
             "#fb9f3a"
            ],
            [
             0.8888888888888888,
             "#fdca26"
            ],
            [
             1,
             "#f0f921"
            ]
           ],
           "sequentialminus": [
            [
             0,
             "#0d0887"
            ],
            [
             0.1111111111111111,
             "#46039f"
            ],
            [
             0.2222222222222222,
             "#7201a8"
            ],
            [
             0.3333333333333333,
             "#9c179e"
            ],
            [
             0.4444444444444444,
             "#bd3786"
            ],
            [
             0.5555555555555556,
             "#d8576b"
            ],
            [
             0.6666666666666666,
             "#ed7953"
            ],
            [
             0.7777777777777778,
             "#fb9f3a"
            ],
            [
             0.8888888888888888,
             "#fdca26"
            ],
            [
             1,
             "#f0f921"
            ]
           ]
          },
          "colorway": [
           "#636efa",
           "#EF553B",
           "#00cc96",
           "#ab63fa",
           "#FFA15A",
           "#19d3f3",
           "#FF6692",
           "#B6E880",
           "#FF97FF",
           "#FECB52"
          ],
          "font": {
           "color": "#2a3f5f"
          },
          "geo": {
           "bgcolor": "white",
           "lakecolor": "white",
           "landcolor": "#E5ECF6",
           "showlakes": true,
           "showland": true,
           "subunitcolor": "white"
          },
          "hoverlabel": {
           "align": "left"
          },
          "hovermode": "closest",
          "mapbox": {
           "style": "light"
          },
          "paper_bgcolor": "white",
          "plot_bgcolor": "#E5ECF6",
          "polar": {
           "angularaxis": {
            "gridcolor": "white",
            "linecolor": "white",
            "ticks": ""
           },
           "bgcolor": "#E5ECF6",
           "radialaxis": {
            "gridcolor": "white",
            "linecolor": "white",
            "ticks": ""
           }
          },
          "scene": {
           "xaxis": {
            "backgroundcolor": "#E5ECF6",
            "gridcolor": "white",
            "gridwidth": 2,
            "linecolor": "white",
            "showbackground": true,
            "ticks": "",
            "zerolinecolor": "white"
           },
           "yaxis": {
            "backgroundcolor": "#E5ECF6",
            "gridcolor": "white",
            "gridwidth": 2,
            "linecolor": "white",
            "showbackground": true,
            "ticks": "",
            "zerolinecolor": "white"
           },
           "zaxis": {
            "backgroundcolor": "#E5ECF6",
            "gridcolor": "white",
            "gridwidth": 2,
            "linecolor": "white",
            "showbackground": true,
            "ticks": "",
            "zerolinecolor": "white"
           }
          },
          "shapedefaults": {
           "line": {
            "color": "#2a3f5f"
           }
          },
          "ternary": {
           "aaxis": {
            "gridcolor": "white",
            "linecolor": "white",
            "ticks": ""
           },
           "baxis": {
            "gridcolor": "white",
            "linecolor": "white",
            "ticks": ""
           },
           "bgcolor": "#E5ECF6",
           "caxis": {
            "gridcolor": "white",
            "linecolor": "white",
            "ticks": ""
           }
          },
          "title": {
           "x": 0.05
          },
          "xaxis": {
           "automargin": true,
           "gridcolor": "white",
           "linecolor": "white",
           "ticks": "",
           "title": {
            "standoff": 15
           },
           "zerolinecolor": "white",
           "zerolinewidth": 2
          },
          "yaxis": {
           "automargin": true,
           "gridcolor": "white",
           "linecolor": "white",
           "ticks": "",
           "title": {
            "standoff": 15
           },
           "zerolinecolor": "white",
           "zerolinewidth": 2
          }
         }
        },
        "title": {
         "text": "Top 10 des chansons les plus écoutées sur Spotify en 2024"
        },
        "xaxis": {
         "anchor": "y",
         "domain": [
          0,
          1
         ],
         "title": {
          "text": "Track"
         }
        },
        "yaxis": {
         "anchor": "x",
         "domain": [
          0,
          1
         ],
         "title": {
          "text": "Spotify Streams"
         }
        }
       }
      }
     },
     "metadata": {},
     "output_type": "display_data"
    }
   ],
   "source": [
    "# TODO : Afficher un diagramme à barres avec le top 10 des chansons les plus écoutées en 2024.\n",
    "data_frame_barre= data_frame[[\"Track\",\"Spotify Streams\"]].sort_values(by=\"Spotify Streams\", ascending=False).iloc[: 10 , :]\n",
    "fig_3= px.bar(data_frame_barre,x=\"Track\", y=\"Spotify Streams\",text=\"Spotify Streams\",text_auto=True,title=\"Top 10 des chansons les plus écoutées sur Spotify en 2024\")\n",
    "fig_3.show()"
   ]
  },
  {
   "cell_type": "markdown",
   "metadata": {},
   "source": [
    "#### 7. Matrice de corrélation\n",
    "Afin de comprendre la relation entre les différentes colonnes numériques, nous voulons construire une matrice de corrélation. Cette matrice nous permet de mesurer le lien de dépendance entre chaque colonne 1 à 1.\n",
    "\n",
    "Utilisez la méthode `corr()` sur les colonnes numériques du DataFrame pour construire une matrice, et affichez la matrice avec `heatmap()` de Seaborn (accessible via l'objet `sns`)."
   ]
  },
  {
   "cell_type": "code",
   "execution_count": 34,
   "metadata": {},
   "outputs": [
    {
     "data": {
      "text/plain": [
       "<Axes: >"
      ]
     },
     "execution_count": 34,
     "metadata": {},
     "output_type": "execute_result"
    },
    {
     "data": {
      "image/png": "[encoded data removed]",
      "text/plain": [
       "<Figure size 640x480 with 2 Axes>"
      ]
     },
     "metadata": {},
     "output_type": "display_data"
    }
   ],
   "source": [
    "# TODO: Afficher la matrice de corrélation entre les colonnes numériques du jeu de données.\n",
    "data_coorelation_numerique= data_frame.select_dtypes(include=[\"float\", \"int\"]).corr()\n",
    "sns.heatmap(data_coorelation_numerique)\n"
   ]
  },
  {
   "cell_type": "markdown",
   "metadata": {},
   "source": [
    "#### 8. Entraînement d'un modèle de régression linéaire\n",
    "Nous allons procéder à l'entraînement d'un modèle de regression linéaire pour prédire le nombre d'écoutes d'une chanson sur Spotify.\n",
    "\n",
    "Cela consiste à apprendre d'une relation entre des données d'entrée et des résultats souhaités (ici on parle d'une relation entre toutes les colonnes décrivant une chanson et la colonne \"Spotify Streams\"). \n",
    "\n",
    "On veut diviser nos données en 2 ensembles distincts afin d'utiliser une partie pour que notre modèle apprenne des relations entre les entrées et le résulat, et l'autre partie pour tester la performance de notre modèle."
   ]
  },
  {
   "cell_type": "code",
   "execution_count": 35,
   "metadata": {},
   "outputs": [
    {
     "data": {
      "text/html": [
       "<div>\n",
       "<style scoped>\n",
       "    .dataframe tbody tr th:only-of-type {\n",
       "        vertical-align: middle;\n",
       "    }\n",
       "\n",
       "    .dataframe tbody tr th {\n",
       "        vertical-align: top;\n",
       "    }\n",
       "\n",
       "    .dataframe thead th {\n",
       "        text-align: right;\n",
       "    }\n",
       "</style>\n",
       "<table border=\"1\" class=\"dataframe\">\n",
       "  <thead>\n",
       "    <tr style=\"text-align: right;\">\n",
       "      <th></th>\n",
       "      <th>All Time Rank</th>\n",
       "      <th>Track Score</th>\n",
       "      <th>Spotify Playlist Count</th>\n",
       "      <th>Spotify Playlist Reach</th>\n",
       "      <th>Spotify Popularity</th>\n",
       "      <th>YouTube Views</th>\n",
       "      <th>YouTube Likes</th>\n",
       "      <th>TikTok Posts</th>\n",
       "      <th>TikTok Likes</th>\n",
       "      <th>TikTok Views</th>\n",
       "      <th>...</th>\n",
       "      <th>SiriusXM Spins</th>\n",
       "      <th>Deezer Playlist Count</th>\n",
       "      <th>Deezer Playlist Reach</th>\n",
       "      <th>Amazon Playlist Count</th>\n",
       "      <th>Pandora Streams</th>\n",
       "      <th>Pandora Track Stations</th>\n",
       "      <th>Soundcloud Streams</th>\n",
       "      <th>Shazam Counts</th>\n",
       "      <th>Explicit Track</th>\n",
       "      <th>Release Year</th>\n",
       "    </tr>\n",
       "  </thead>\n",
       "  <tbody>\n",
       "    <tr>\n",
       "      <th>0</th>\n",
       "      <td>1.0</td>\n",
       "      <td>725.4</td>\n",
       "      <td>30716.0</td>\n",
       "      <td>196631588.0</td>\n",
       "      <td>92.0</td>\n",
       "      <td>8.427475e+07</td>\n",
       "      <td>1713126.0</td>\n",
       "      <td>5767700.0</td>\n",
       "      <td>651565900.0</td>\n",
       "      <td>5.332282e+09</td>\n",
       "      <td>...</td>\n",
       "      <td>684.0</td>\n",
       "      <td>62.0</td>\n",
       "      <td>17598718.0</td>\n",
       "      <td>114.0</td>\n",
       "      <td>18004655.0</td>\n",
       "      <td>22931.0</td>\n",
       "      <td>4818457.0</td>\n",
       "      <td>2669262.0</td>\n",
       "      <td>0</td>\n",
       "      <td>2024</td>\n",
       "    </tr>\n",
       "    <tr>\n",
       "      <th>1</th>\n",
       "      <td>2.0</td>\n",
       "      <td>545.9</td>\n",
       "      <td>28113.0</td>\n",
       "      <td>174597137.0</td>\n",
       "      <td>92.0</td>\n",
       "      <td>1.163470e+08</td>\n",
       "      <td>3486739.0</td>\n",
       "      <td>674700.0</td>\n",
       "      <td>35223547.0</td>\n",
       "      <td>2.083390e+08</td>\n",
       "      <td>...</td>\n",
       "      <td>3.0</td>\n",
       "      <td>67.0</td>\n",
       "      <td>10422430.0</td>\n",
       "      <td>111.0</td>\n",
       "      <td>7780028.0</td>\n",
       "      <td>28444.0</td>\n",
       "      <td>6623075.0</td>\n",
       "      <td>1118279.0</td>\n",
       "      <td>1</td>\n",
       "      <td>2024</td>\n",
       "    </tr>\n",
       "    <tr>\n",
       "      <th>2</th>\n",
       "      <td>3.0</td>\n",
       "      <td>538.4</td>\n",
       "      <td>54331.0</td>\n",
       "      <td>211607669.0</td>\n",
       "      <td>92.0</td>\n",
       "      <td>1.225991e+08</td>\n",
       "      <td>2228730.0</td>\n",
       "      <td>3025400.0</td>\n",
       "      <td>275154237.0</td>\n",
       "      <td>3.369121e+09</td>\n",
       "      <td>...</td>\n",
       "      <td>536.0</td>\n",
       "      <td>136.0</td>\n",
       "      <td>36321847.0</td>\n",
       "      <td>172.0</td>\n",
       "      <td>5022621.0</td>\n",
       "      <td>5639.0</td>\n",
       "      <td>7208651.0</td>\n",
       "      <td>5285340.0</td>\n",
       "      <td>0</td>\n",
       "      <td>2024</td>\n",
       "    </tr>\n",
       "    <tr>\n",
       "      <th>5</th>\n",
       "      <td>6.0</td>\n",
       "      <td>410.1</td>\n",
       "      <td>105892.0</td>\n",
       "      <td>175421034.0</td>\n",
       "      <td>83.0</td>\n",
       "      <td>1.311481e+08</td>\n",
       "      <td>1392593.0</td>\n",
       "      <td>4202367.0</td>\n",
       "      <td>214943489.0</td>\n",
       "      <td>2.938687e+09</td>\n",
       "      <td>...</td>\n",
       "      <td>4654.0</td>\n",
       "      <td>86.0</td>\n",
       "      <td>17167254.0</td>\n",
       "      <td>152.0</td>\n",
       "      <td>138529362.0</td>\n",
       "      <td>50982.0</td>\n",
       "      <td>9438601.0</td>\n",
       "      <td>4517131.0</td>\n",
       "      <td>1</td>\n",
       "      <td>2023</td>\n",
       "    </tr>\n",
       "    <tr>\n",
       "      <th>9</th>\n",
       "      <td>10.0</td>\n",
       "      <td>330.6</td>\n",
       "      <td>10400.0</td>\n",
       "      <td>184199419.0</td>\n",
       "      <td>86.0</td>\n",
       "      <td>3.273524e+07</td>\n",
       "      <td>988682.0</td>\n",
       "      <td>325800.0</td>\n",
       "      <td>121574500.0</td>\n",
       "      <td>9.746562e+08</td>\n",
       "      <td>...</td>\n",
       "      <td>117.0</td>\n",
       "      <td>78.0</td>\n",
       "      <td>10800098.0</td>\n",
       "      <td>92.0</td>\n",
       "      <td>1005626.0</td>\n",
       "      <td>842.0</td>\n",
       "      <td>3679709.0</td>\n",
       "      <td>666302.0</td>\n",
       "      <td>1</td>\n",
       "      <td>2024</td>\n",
       "    </tr>\n",
       "    <tr>\n",
       "      <th>...</th>\n",
       "      <td>...</td>\n",
       "      <td>...</td>\n",
       "      <td>...</td>\n",
       "      <td>...</td>\n",
       "      <td>...</td>\n",
       "      <td>...</td>\n",
       "      <td>...</td>\n",
       "      <td>...</td>\n",
       "      <td>...</td>\n",
       "      <td>...</td>\n",
       "      <td>...</td>\n",
       "      <td>...</td>\n",
       "      <td>...</td>\n",
       "      <td>...</td>\n",
       "      <td>...</td>\n",
       "      <td>...</td>\n",
       "      <td>...</td>\n",
       "      <td>...</td>\n",
       "      <td>...</td>\n",
       "      <td>...</td>\n",
       "      <td>...</td>\n",
       "    </tr>\n",
       "    <tr>\n",
       "      <th>1312</th>\n",
       "      <td>1302.0</td>\n",
       "      <td>41.2</td>\n",
       "      <td>115125.0</td>\n",
       "      <td>20776088.0</td>\n",
       "      <td>65.0</td>\n",
       "      <td>3.656785e+08</td>\n",
       "      <td>2841760.0</td>\n",
       "      <td>80.0</td>\n",
       "      <td>4912.0</td>\n",
       "      <td>9.821000e+04</td>\n",
       "      <td>...</td>\n",
       "      <td>17.0</td>\n",
       "      <td>16.0</td>\n",
       "      <td>78389.0</td>\n",
       "      <td>19.0</td>\n",
       "      <td>267465925.0</td>\n",
       "      <td>32765.0</td>\n",
       "      <td>159665164.0</td>\n",
       "      <td>1739069.0</td>\n",
       "      <td>1</td>\n",
       "      <td>2016</td>\n",
       "    </tr>\n",
       "    <tr>\n",
       "      <th>1314</th>\n",
       "      <td>1309.0</td>\n",
       "      <td>41.1</td>\n",
       "      <td>288559.0</td>\n",
       "      <td>72837714.0</td>\n",
       "      <td>77.0</td>\n",
       "      <td>4.103298e+08</td>\n",
       "      <td>2747230.0</td>\n",
       "      <td>185316.0</td>\n",
       "      <td>144066647.0</td>\n",
       "      <td>9.074985e+08</td>\n",
       "      <td>...</td>\n",
       "      <td>51.0</td>\n",
       "      <td>76.0</td>\n",
       "      <td>401696.0</td>\n",
       "      <td>28.0</td>\n",
       "      <td>176739390.0</td>\n",
       "      <td>142939.0</td>\n",
       "      <td>7711539.0</td>\n",
       "      <td>5160420.0</td>\n",
       "      <td>0</td>\n",
       "      <td>2017</td>\n",
       "    </tr>\n",
       "    <tr>\n",
       "      <th>1316</th>\n",
       "      <td>1312.0</td>\n",
       "      <td>41.1</td>\n",
       "      <td>129306.0</td>\n",
       "      <td>54219735.0</td>\n",
       "      <td>75.0</td>\n",
       "      <td>1.049660e+09</td>\n",
       "      <td>9224750.0</td>\n",
       "      <td>171618.0</td>\n",
       "      <td>1982231.0</td>\n",
       "      <td>6.028763e+06</td>\n",
       "      <td>...</td>\n",
       "      <td>22.0</td>\n",
       "      <td>72.0</td>\n",
       "      <td>721612.0</td>\n",
       "      <td>29.0</td>\n",
       "      <td>305499151.0</td>\n",
       "      <td>225474.0</td>\n",
       "      <td>1739764.0</td>\n",
       "      <td>11706559.0</td>\n",
       "      <td>0</td>\n",
       "      <td>2016</td>\n",
       "    </tr>\n",
       "    <tr>\n",
       "      <th>1319</th>\n",
       "      <td>1313.0</td>\n",
       "      <td>41.1</td>\n",
       "      <td>87667.0</td>\n",
       "      <td>24084151.0</td>\n",
       "      <td>65.0</td>\n",
       "      <td>1.601099e+09</td>\n",
       "      <td>7360323.0</td>\n",
       "      <td>1069767.0</td>\n",
       "      <td>28595817.0</td>\n",
       "      <td>2.334194e+08</td>\n",
       "      <td>...</td>\n",
       "      <td>69.0</td>\n",
       "      <td>57.0</td>\n",
       "      <td>239183.0</td>\n",
       "      <td>39.0</td>\n",
       "      <td>107237615.0</td>\n",
       "      <td>37694.0</td>\n",
       "      <td>446194.0</td>\n",
       "      <td>7039145.0</td>\n",
       "      <td>0</td>\n",
       "      <td>2017</td>\n",
       "    </tr>\n",
       "    <tr>\n",
       "      <th>1320</th>\n",
       "      <td>1310.0</td>\n",
       "      <td>41.1</td>\n",
       "      <td>26723.0</td>\n",
       "      <td>26216067.0</td>\n",
       "      <td>65.0</td>\n",
       "      <td>1.777974e+07</td>\n",
       "      <td>246939.0</td>\n",
       "      <td>599910.0</td>\n",
       "      <td>159054107.0</td>\n",
       "      <td>1.598513e+09</td>\n",
       "      <td>...</td>\n",
       "      <td>1893.0</td>\n",
       "      <td>3.0</td>\n",
       "      <td>909981.0</td>\n",
       "      <td>14.0</td>\n",
       "      <td>12625658.0</td>\n",
       "      <td>6542.0</td>\n",
       "      <td>6657861.0</td>\n",
       "      <td>2066168.0</td>\n",
       "      <td>1</td>\n",
       "      <td>2023</td>\n",
       "    </tr>\n",
       "  </tbody>\n",
       "</table>\n",
       "<p>282 rows × 23 columns</p>\n",
       "</div>"
      ],
      "text/plain": [
       "      All Time Rank  Track Score  Spotify Playlist Count  \\\n",
       "0               1.0        725.4                 30716.0   \n",
       "1               2.0        545.9                 28113.0   \n",
       "2               3.0        538.4                 54331.0   \n",
       "5               6.0        410.1                105892.0   \n",
       "9              10.0        330.6                 10400.0   \n",
       "...             ...          ...                     ...   \n",
       "1312         1302.0         41.2                115125.0   \n",
       "1314         1309.0         41.1                288559.0   \n",
       "1316         1312.0         41.1                129306.0   \n",
       "1319         1313.0         41.1                 87667.0   \n",
       "1320         1310.0         41.1                 26723.0   \n",
       "\n",
       "      Spotify Playlist Reach  Spotify Popularity  YouTube Views  \\\n",
       "0                196631588.0                92.0   8.427475e+07   \n",
       "1                174597137.0                92.0   1.163470e+08   \n",
       "2                211607669.0                92.0   1.225991e+08   \n",
       "5                175421034.0                83.0   1.311481e+08   \n",
       "9                184199419.0                86.0   3.273524e+07   \n",
       "...                      ...                 ...            ...   \n",
       "1312              20776088.0                65.0   3.656785e+08   \n",
       "1314              72837714.0                77.0   4.103298e+08   \n",
       "1316              54219735.0                75.0   1.049660e+09   \n",
       "1319              24084151.0                65.0   1.601099e+09   \n",
       "1320              26216067.0                65.0   1.777974e+07   \n",
       "\n",
       "      YouTube Likes  TikTok Posts  TikTok Likes  TikTok Views  ...  \\\n",
       "0         1713126.0     5767700.0   651565900.0  5.332282e+09  ...   \n",
       "1         3486739.0      674700.0    35223547.0  2.083390e+08  ...   \n",
       "2         2228730.0     3025400.0   275154237.0  3.369121e+09  ...   \n",
       "5         1392593.0     4202367.0   214943489.0  2.938687e+09  ...   \n",
       "9          988682.0      325800.0   121574500.0  9.746562e+08  ...   \n",
       "...             ...           ...           ...           ...  ...   \n",
       "1312      2841760.0          80.0        4912.0  9.821000e+04  ...   \n",
       "1314      2747230.0      185316.0   144066647.0  9.074985e+08  ...   \n",
       "1316      9224750.0      171618.0     1982231.0  6.028763e+06  ...   \n",
       "1319      7360323.0     1069767.0    28595817.0  2.334194e+08  ...   \n",
       "1320       246939.0      599910.0   159054107.0  1.598513e+09  ...   \n",
       "\n",
       "      SiriusXM Spins  Deezer Playlist Count  Deezer Playlist Reach  \\\n",
       "0              684.0                   62.0             17598718.0   \n",
       "1                3.0                   67.0             10422430.0   \n",
       "2              536.0                  136.0             36321847.0   \n",
       "5             4654.0                   86.0             17167254.0   \n",
       "9              117.0                   78.0             10800098.0   \n",
       "...              ...                    ...                    ...   \n",
       "1312            17.0                   16.0                78389.0   \n",
       "1314            51.0                   76.0               401696.0   \n",
       "1316            22.0                   72.0               721612.0   \n",
       "1319            69.0                   57.0               239183.0   \n",
       "1320          1893.0                    3.0               909981.0   \n",
       "\n",
       "      Amazon Playlist Count  Pandora Streams  Pandora Track Stations  \\\n",
       "0                     114.0       18004655.0                 22931.0   \n",
       "1                     111.0        7780028.0                 28444.0   \n",
       "2                     172.0        5022621.0                  5639.0   \n",
       "5                     152.0      138529362.0                 50982.0   \n",
       "9                      92.0        1005626.0                   842.0   \n",
       "...                     ...              ...                     ...   \n",
       "1312                   19.0      267465925.0                 32765.0   \n",
       "1314                   28.0      176739390.0                142939.0   \n",
       "1316                   29.0      305499151.0                225474.0   \n",
       "1319                   39.0      107237615.0                 37694.0   \n",
       "1320                   14.0       12625658.0                  6542.0   \n",
       "\n",
       "      Soundcloud Streams  Shazam Counts  Explicit Track  Release Year  \n",
       "0              4818457.0      2669262.0               0          2024  \n",
       "1              6623075.0      1118279.0               1          2024  \n",
       "2              7208651.0      5285340.0               0          2024  \n",
       "5              9438601.0      4517131.0               1          2023  \n",
       "9              3679709.0       666302.0               1          2024  \n",
       "...                  ...            ...             ...           ...  \n",
       "1312         159665164.0      1739069.0               1          2016  \n",
       "1314           7711539.0      5160420.0               0          2017  \n",
       "1316           1739764.0     11706559.0               0          2016  \n",
       "1319            446194.0      7039145.0               0          2017  \n",
       "1320           6657861.0      2066168.0               1          2023  \n",
       "\n",
       "[282 rows x 23 columns]"
      ]
     },
     "execution_count": 35,
     "metadata": {},
     "output_type": "execute_result"
    }
   ],
   "source": [
    "\n",
    "# TODO: Compléter data_test et data_train. Séparer le jeu de données de base en 2, \n",
    "#       on utilise la 1ère moitié pour initialiser data_test et l'autre pour data_train.\n",
    "#       Les champs X correspondent aux données d'entrée (toutes les colonnes numériques sauf \"Spotify Streams\").\n",
    "#       Les champs Y correspondent au résultat souhaité (soit la colonne \"Spotify Streams\").\n",
    "\n",
    "\n",
    "\n",
    "data_numerique= data_frame.select_dtypes(include=[\"float\",\"int\"]) #dataframe avec colonnes numériques\n",
    "data_train = {\"X\": data_numerique.drop(columns=[\"Spotify Streams\"]).iloc[:len(data_frame)//2] , \"Y\":   data_numerique[[\"Spotify Streams\"]].iloc[:len(data_frame)//2]}\n",
    "data_test = {\"X\":data_numerique.drop(columns=[\"Spotify Streams\"]).iloc[len(data_frame)//2:] , \"Y\":   data_numerique[[\"Spotify Streams\"]].iloc[ len(data_frame)//2 :]}\n",
    "\n",
    "\n",
    "\n"
   ]
  },
  {
   "cell_type": "code",
   "execution_count": 36,
   "metadata": {},
   "outputs": [],
   "source": [
    "regression = linear_model.LinearRegression() # Instanciation du modèle de régression linéaire.\n",
    "# TODO: Entraîner le modèle en appelant la méthode fit() sur la regression,\n",
    "#       et en passant les données entraînements (entrées et résultat attendu) à cette méthode.\n",
    "regression.fit(data_train[\"X\"], data_train[\"Y\"])\n",
    "# TODO: Faire des prédictions de résultat à partir des données d'entrée de test,\n",
    "#       en appelant la méthode predict() sur la regression.\n",
    "#       Mettre les prédictions dans data_test[\"Y_pred\"].\n",
    "data_test[\"Y_pred\"]= regression.predict(data_test[\"X\"])\n",
    "\n"
   ]
  },
  {
   "cell_type": "code",
   "execution_count": 40,
   "metadata": {},
   "outputs": [
    {
     "data": {
      "image/png": "[encoded data removed]",
      "text/plain": [
       "<Figure size 640x480 with 1 Axes>"
      ]
     },
     "metadata": {},
     "output_type": "display_data"
    }
   ],
   "source": [
    "# TODO: Comparer la distribution des données prédites avec celles d'entraînement via un histogramme.\n",
    "sns.histplot(data_train[\"Y\"],label=\"Entrainement\")\n",
    "sns.histplot(data_test[\"Y_pred\"], label=\"Prédicition\")\n",
    "\n",
    "plt.xlabel(\"Spotify Streams\")\n",
    "plt.ylabel(\"Fréquence\")\n",
    "plt.title(\"Comparaison des distributions entre les données prédites et les données d'entrainement\")\n",
    "plt.legend()\n",
    "plt.show()\n",
    "\n",
    "\n"
   ]
  }
 ],
 "metadata": {
  "kernelspec": {
   "display_name": "Python 3",
   "language": "python",
   "name": "python3"
  },
  "language_info": {
   "codemirror_mode": {
    "name": "ipython",
    "version": 3
   },
   "file_extension": ".py",
   "mimetype": "text/x-python",
   "name": "python",
   "nbconvert_exporter": "python",
   "pygments_lexer": "ipython3",
   "version": "3.12.4"
  }
 },
 "nbformat": 4,
 "nbformat_minor": 2
}
